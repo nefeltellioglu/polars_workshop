{
 "cells": [
  {
   "cell_type": "code",
   "execution_count": 2,
   "id": "e0cfaf3c-4f5a-4c99-ab29-a2eb85f7bd5a",
   "metadata": {},
   "outputs": [],
   "source": [
    "from hh_transmission_model import run_SEIR_model_pl, plot_SEIR_pl, Params\n",
    "from pandas_transmission_model import run_SEIR_model_pd, plot_SEIR_pd\n"
   ]
  },
  {
   "cell_type": "code",
   "execution_count": null,
   "id": "5b84160e-b2ae-46db-8022-99dda5ae0c87",
   "metadata": {},
   "outputs": [],
   "source": []
  }
 ],
 "metadata": {
  "kernelspec": {
   "display_name": "Python 3 (Spyder)",
   "language": "python3",
   "name": "python3"
  },
  "language_info": {
   "codemirror_mode": {
    "name": "ipython",
    "version": 3
   },
   "file_extension": ".py",
   "mimetype": "text/x-python",
   "name": "python",
   "nbconvert_exporter": "python",
   "pygments_lexer": "ipython3",
   "version": "3.9.18"
  }
 },
 "nbformat": 4,
 "nbformat_minor": 5
}

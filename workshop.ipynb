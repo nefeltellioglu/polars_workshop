{
 "cells": [
  {
   "cell_type": "markdown",
   "id": "33a09f39-3d5c-4c66-93da-3195e4c6dcf0",
   "metadata": {},
   "source": [
    "## Polars home page (https://pola.rs/) \n",
    "## The User Guide home page (https://docs.pola.rs/)\n",
    "\n",
    "#Installation\n",
    "\n",
    "pip install polars"
   ]
  },
  {
   "cell_type": "code",
   "execution_count": 1,
   "id": "e0cfaf3c-4f5a-4c99-ab29-a2eb85f7bd5a",
   "metadata": {},
   "outputs": [],
   "source": [
    "from hh_transmission_model import run_SEIR_model_pl, plot_SEIR_pl, Params\n",
    "from pandas_transmission_model import run_SEIR_model_pd, plot_SEIR_pd\n",
    "import time"
   ]
  },
  {
   "cell_type": "code",
   "execution_count": 11,
   "id": "5b84160e-b2ae-46db-8022-99dda5ae0c87",
   "metadata": {},
   "outputs": [],
   "source": [
    "# Parameters\n",
    "params = Params(\n",
    "    no_runs=10,\n",
    "    pop_size=5000,\n",
    "    inf_duration=10, \n",
    "    exposed_duration=4,\n",
    "    random_seed=5,\n",
    "    transmission_rate=0.02,\n",
    "    time_horizon=50,\n",
    "    time_step=0.5,\n",
    "    record_transmission=True,\n",
    "    record_all_new_cases=True\n",
    ")"
   ]
  },
  {
   "cell_type": "code",
   "execution_count": 12,
   "id": "fa35bb0b-0e76-4512-b453-d0ca7d343e79",
   "metadata": {},
   "outputs": [
    {
     "name": "stdout",
     "output_type": "stream",
     "text": [
      "Pop size 500  - Polars execution time: 0.8 seconds\n",
      "Pop size 500  - Pandas execution time: 0.8 seconds\n"
     ]
    },
    {
     "data": {
      "text/plain": [
       "'\\nPop size 500  - Polars execution time: 1.5 seconds\\nPop size 500  - Pandas execution time: 1.4 seconds\\nPop size 5000  - Polars execution time: 2.0 seconds\\nPop size 5000  - Pandas execution time: 3.8 seconds\\nPop size 50000  - Polars execution time: 4.4 seconds\\nPop size 50000  - Pandas execution time: 27.8 seconds\\nPop size 500000  - Polars execution time: 24.3 seconds\\nPop size 500000  - Pandas execution time: 273.0 seconds\\n\\n'"
      ]
     },
     "execution_count": 12,
     "metadata": {},
     "output_type": "execute_result"
    }
   ],
   "source": [
    "pop_sizes = [500]#, 5000, 50000] #, 500000]\n",
    "for pop_size in pop_sizes:\n",
    "    setattr(params, 'pop_size', pop_size)  \n",
    "    # get the start time\n",
    "    st = time.time()\n",
    "    results_pl = run_SEIR_model_pl(params)\n",
    "    # get the end time\n",
    "    et = time.time()\n",
    "    # get the execution time\n",
    "    elapsed_time_pl = et - st\n",
    "    print('Pop size', pop_size,' - Polars execution time:', round(elapsed_time_pl, 1), 'seconds')   \n",
    "\n",
    "    # get the start time\n",
    "    st = time.time()\n",
    "    results_pd = run_SEIR_model_pd(params)\n",
    "    # get the end time\n",
    "    et = time.time()\n",
    "    # get the execution time\n",
    "    elapsed_time_pd = et - st\n",
    "    print('Pop size', pop_size,' - Pandas execution time:', round(elapsed_time_pd, 1), 'seconds')   \n",
    "\n",
    "\"\"\"\n",
    "Pop size 500  - Polars execution time: 1.5 seconds\n",
    "Pop size 500  - Pandas execution time: 1.4 seconds\n",
    "Pop size 5000  - Polars execution time: 2.0 seconds\n",
    "Pop size 5000  - Pandas execution time: 3.8 seconds\n",
    "Pop size 50000  - Polars execution time: 4.4 seconds\n",
    "Pop size 50000  - Pandas execution time: 27.8 seconds\n",
    "Pop size 500000  - Polars execution time: 24.3 seconds\n",
    "Pop size 500000  - Pandas execution time: 273.0 seconds\n",
    "\"\"\"    "
   ]
  },
  {
   "cell_type": "code",
   "execution_count": 14,
   "id": "d10f8df6-2fb9-4c7e-9257-15d6355027ee",
   "metadata": {},
   "outputs": [],
   "source": [
    "#plot results\n",
    "#plot_SEIR_pl(results_pl[\"all_transmission\"])\n",
    "#plot_SEIR_pd(results_pd[\"all_transmission\"])"
   ]
  },
  {
   "cell_type": "markdown",
   "id": "a06ec2af-e19e-46c7-9795-c4abbf448886",
   "metadata": {},
   "source": [
    "## Data structures in Polars"
   ]
  },
  {
   "cell_type": "code",
   "execution_count": 29,
   "id": "9fb969a4-8fc8-48d2-9f59-431e68765b48",
   "metadata": {},
   "outputs": [
    {
     "name": "stdout",
     "output_type": "stream",
     "text": [
      "shape: (5, 6)\n",
      "┌─────┬─────────────┬────────────────┬───────────────────┬─────────────────┬──────────────┐\n",
      "│ id  ┆ state       ┆ s_time_exposed ┆ s_time_infectious ┆ s_time_recovery ┆ exposed_from │\n",
      "│ --- ┆ ---         ┆ ---            ┆ ---               ┆ ---             ┆ ---          │\n",
      "│ i64 ┆ str         ┆ i64            ┆ i64               ┆ i64             ┆ i64          │\n",
      "╞═════╪═════════════╪════════════════╪═══════════════════╪═════════════════╪══════════════╡\n",
      "│ 0   ┆ Susceptible ┆ 0              ┆ 0                 ┆ 0               ┆ -1           │\n",
      "│ 1   ┆ Susceptible ┆ 0              ┆ 0                 ┆ 0               ┆ -1           │\n",
      "│ 2   ┆ Susceptible ┆ 0              ┆ 0                 ┆ 0               ┆ -1           │\n",
      "│ 3   ┆ Susceptible ┆ 0              ┆ 0                 ┆ 0               ┆ -1           │\n",
      "│ 4   ┆ Susceptible ┆ 0              ┆ 0                 ┆ 0               ┆ -1           │\n",
      "└─────┴─────────────┴────────────────┴───────────────────┴─────────────────┴──────────────┘\n",
      "shape: (5, 6)\n",
      "┌─────┬─────────────┬────────────────┬───────────────────┬─────────────────┬──────────────┐\n",
      "│ id  ┆ state       ┆ s_time_exposed ┆ s_time_infectious ┆ s_time_recovery ┆ exposed_from │\n",
      "│ --- ┆ ---         ┆ ---            ┆ ---               ┆ ---             ┆ ---          │\n",
      "│ i64 ┆ str         ┆ i64            ┆ i64               ┆ i64             ┆ i64          │\n",
      "╞═════╪═════════════╪════════════════╪═══════════════════╪═════════════════╪══════════════╡\n",
      "│ 0   ┆ Susceptible ┆ 0              ┆ 0                 ┆ 0               ┆ -1           │\n",
      "│ 1   ┆ Susceptible ┆ 0              ┆ 0                 ┆ 0               ┆ -1           │\n",
      "│ 2   ┆ Susceptible ┆ 0              ┆ 0                 ┆ 0               ┆ -1           │\n",
      "│ 3   ┆ Susceptible ┆ 0              ┆ 0                 ┆ 0               ┆ -1           │\n",
      "│ 4   ┆ Susceptible ┆ 0              ┆ 0                 ┆ 0               ┆ -1           │\n",
      "└─────┴─────────────┴────────────────┴───────────────────┴─────────────────┴──────────────┘\n"
     ]
    }
   ],
   "source": [
    "# Create a dataframe\n",
    "import polars as pl\n",
    "\n",
    "p = params\n",
    "\n",
    "#via dictionary\n",
    "population = pl.DataFrame(\n",
    "                        {\n",
    "                        \"id\": range(p.pop_size),\n",
    "                        \"state\": [\"Susceptible\"] * p.pop_size,\n",
    "                        \"s_time_exposed\": [0] * p.pop_size,\n",
    "                        \"s_time_infectious\": [0] * p.pop_size,\n",
    "                        \"s_time_recovery\": [0] * p.pop_size,\n",
    "                        \"exposed_from\": [-1] * p.pop_size,\n",
    "                        }\n",
    "                        )\n",
    "print(population.head())\n",
    "\n",
    "#via list of polars Series\n",
    "population2 = [\n",
    "    pl.Series(\"id\", range(p.pop_size), dtype=pl.Int64),\n",
    "    pl.Series(\"state\",  [\"Susceptible\"] * p.pop_size),\n",
    "    pl.Series(\"s_time_exposed\", [0] * p.pop_size, dtype=pl.Int64),\n",
    "    pl.Series(\"s_time_infectious\", [0] * p.pop_size, dtype=pl.Int64),\n",
    "    pl.Series(\"s_time_recovery\", [0] * p.pop_size, dtype=pl.Int64),\n",
    "    pl.Series(\"exposed_from\", [-1] * p.pop_size, dtype=pl.Int64),\n",
    "    \n",
    "]\n",
    "population2 = pl.DataFrame(population2)\n",
    "print(population2.head())\n"
   ]
  },
  {
   "cell_type": "code",
   "execution_count": 30,
   "id": "0378b45f-d17a-4728-a37b-1e4a4b5d61ef",
   "metadata": {},
   "outputs": [
    {
     "name": "stdout",
     "output_type": "stream",
     "text": [
      "shape: (1, 6)\n",
      "┌─────┬────────────┬────────────────┬───────────────────┬─────────────────┬──────────────┐\n",
      "│ id  ┆ state      ┆ s_time_exposed ┆ s_time_infectious ┆ s_time_recovery ┆ exposed_from │\n",
      "│ --- ┆ ---        ┆ ---            ┆ ---               ┆ ---             ┆ ---          │\n",
      "│ i64 ┆ str        ┆ i64            ┆ i64               ┆ i64             ┆ i64          │\n",
      "╞═════╪════════════╪════════════════╪═══════════════════╪═════════════════╪══════════════╡\n",
      "│ 500 ┆ Infectious ┆ 0              ┆ 0                 ┆ 0               ┆ -1           │\n",
      "└─────┴────────────┴────────────────┴───────────────────┴─────────────────┴──────────────┘\n",
      "shape: (5, 6)\n",
      "┌─────┬─────────────┬────────────────┬───────────────────┬─────────────────┬──────────────┐\n",
      "│ id  ┆ state       ┆ s_time_exposed ┆ s_time_infectious ┆ s_time_recovery ┆ exposed_from │\n",
      "│ --- ┆ ---         ┆ ---            ┆ ---               ┆ ---             ┆ ---          │\n",
      "│ i64 ┆ str         ┆ i64            ┆ i64               ┆ i64             ┆ i64          │\n",
      "╞═════╪═════════════╪════════════════╪═══════════════════╪═════════════════╪══════════════╡\n",
      "│ 496 ┆ Susceptible ┆ 0              ┆ 0                 ┆ 0               ┆ -1           │\n",
      "│ 497 ┆ Susceptible ┆ 0              ┆ 0                 ┆ 0               ┆ -1           │\n",
      "│ 498 ┆ Susceptible ┆ 0              ┆ 0                 ┆ 0               ┆ -1           │\n",
      "│ 499 ┆ Susceptible ┆ 0              ┆ 0                 ┆ 0               ┆ -1           │\n",
      "│ 500 ┆ Infectious  ┆ 0              ┆ 0                 ┆ 0               ┆ -1           │\n",
      "└─────┴─────────────┴────────────────┴───────────────────┴─────────────────┴──────────────┘\n",
      "shape: (5, 6)\n",
      "┌─────┬─────────────┬────────────────┬───────────────────┬─────────────────┬──────────────┐\n",
      "│ id  ┆ state       ┆ s_time_exposed ┆ s_time_infectious ┆ s_time_recovery ┆ exposed_from │\n",
      "│ --- ┆ ---         ┆ ---            ┆ ---               ┆ ---             ┆ ---          │\n",
      "│ i64 ┆ str         ┆ i64            ┆ i64               ┆ i64             ┆ i64          │\n",
      "╞═════╪═════════════╪════════════════╪═══════════════════╪═════════════════╪══════════════╡\n",
      "│ 496 ┆ Susceptible ┆ 0              ┆ 0                 ┆ 0               ┆ -1           │\n",
      "│ 497 ┆ Susceptible ┆ 0              ┆ 0                 ┆ 0               ┆ -1           │\n",
      "│ 498 ┆ Susceptible ┆ 0              ┆ 0                 ┆ 0               ┆ -1           │\n",
      "│ 499 ┆ Susceptible ┆ 0              ┆ 0                 ┆ 0               ┆ -1           │\n",
      "│ 500 ┆ Infectious  ┆ 0              ┆ 0                 ┆ 0               ┆ -1           │\n",
      "└─────┴─────────────┴────────────────┴───────────────────┴─────────────────┴──────────────┘\n",
      "shape: (5, 6)\n",
      "┌─────┬─────────────┬────────────────┬───────────────────┬─────────────────┬──────────────┐\n",
      "│ id  ┆ state       ┆ s_time_exposed ┆ s_time_infectious ┆ s_time_recovery ┆ exposed_from │\n",
      "│ --- ┆ ---         ┆ ---            ┆ ---               ┆ ---             ┆ ---          │\n",
      "│ i64 ┆ str         ┆ i64            ┆ i64               ┆ i64             ┆ i64          │\n",
      "╞═════╪═════════════╪════════════════╪═══════════════════╪═════════════════╪══════════════╡\n",
      "│ 496 ┆ Susceptible ┆ 0              ┆ 0                 ┆ 0               ┆ -1           │\n",
      "│ 497 ┆ Susceptible ┆ 0              ┆ 0                 ┆ 0               ┆ -1           │\n",
      "│ 498 ┆ Susceptible ┆ 0              ┆ 0                 ┆ 0               ┆ -1           │\n",
      "│ 499 ┆ Susceptible ┆ 0              ┆ 0                 ┆ 0               ┆ -1           │\n",
      "│ 500 ┆ Infectious  ┆ 0              ┆ 0                 ┆ 0               ┆ -1           │\n",
      "└─────┴─────────────┴────────────────┴───────────────────┴─────────────────┴──────────────┘\n"
     ]
    }
   ],
   "source": [
    "#add rows\n",
    "population3 = pl.DataFrame([\n",
    "    pl.Series(\"id\", [p.pop_size], dtype=pl.Int64),\n",
    "    pl.Series(\"state\",  [\"Infectious\"]),\n",
    "    pl.Series(\"s_time_exposed\", [0], dtype=pl.Int64),\n",
    "    pl.Series(\"s_time_infectious\", [0] , dtype=pl.Int64),\n",
    "    pl.Series(\"s_time_recovery\", [0] , dtype=pl.Int64),\n",
    "    pl.Series(\"exposed_from\", [-1], dtype=pl.Int64),   \n",
    "])\n",
    "print(population3)\n",
    "\n",
    "# new memory slab\n",
    "new_population = pl.concat([population, population3], rechunk=True)\n",
    "print(new_population.tail())\n",
    "\n",
    "# append free (no memory copy)\n",
    "new_population = population.vstack(population3)\n",
    "print(new_population.tail())\n",
    "\n",
    "# try to append in place\n",
    "population.extend(population3)\n",
    "print(population.tail())\n"
   ]
  },
  {
   "cell_type": "code",
   "execution_count": null,
   "id": "b7c29097-10b2-4acf-99a2-a15baf0cae35",
   "metadata": {},
   "outputs": [],
   "source": []
  }
 ],
 "metadata": {
  "kernelspec": {
   "display_name": "Python 3 (Spyder)",
   "language": "python3",
   "name": "python3"
  },
  "language_info": {
   "codemirror_mode": {
    "name": "ipython",
    "version": 3
   },
   "file_extension": ".py",
   "mimetype": "text/x-python",
   "name": "python",
   "nbconvert_exporter": "python",
   "pygments_lexer": "ipython3",
   "version": "3.9.18"
  }
 },
 "nbformat": 4,
 "nbformat_minor": 5
}

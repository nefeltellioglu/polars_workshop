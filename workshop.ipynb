{
 "cells": [
  {
   "cell_type": "markdown",
   "id": "7bba3c51-4292-4432-b14d-208e8b98e5a2",
   "metadata": {},
   "source": [
    "## Polars home page (https://pola.rs/) \n",
    "## The User Guide home page (https://docs.pola.rs/)\n",
    "\n",
    "#Installation\n",
    "\n",
    "pip install polars\n",
    "\n",
    "pip install numpy\n",
    "\n",
    "pip install matplotlib"
   ]
  },
  {
   "cell_type": "code",
   "execution_count": 16,
   "id": "79b393d1-d11b-4a68-92c8-ac1be16dabf7",
   "metadata": {},
   "outputs": [],
   "source": [
    "###TODOS\n",
    "#Assume that ABM , Why python + polars?\n",
    "\n",
    "#jump to workshop a dataframe \n",
    "\n",
    "#create a powerpoint slides\n",
    "\n",
    "#design update question\n",
    "\n",
    "#Sep 16\n",
    "#1. Julian: Hands on -> update checking death in optimized way\n",
    "#2. Nefel (DONE) + Julian: (N):introduce a simple example of disease state update + (J) hands on example of updating status of individuals (inf -> sus)\n",
    "#3. (DONE) Nefel: rather thanr emoving individuals add dead status example\n",
    "#4. Nefel + Julian: (N):introduce a simple example (J) load csv -> collect -> group by agg and select(), pivot tables\n",
    "#5. Julian: Ask Rob about the opt way to run interactive workshop: how to use github.dev for instance?\n"
   ]
  },
  {
   "cell_type": "code",
   "execution_count": 17,
   "id": "e0cfaf3c-4f5a-4c99-ab29-a2eb85f7bd5a",
   "metadata": {},
   "outputs": [],
   "source": [
    "import polars as pl\n",
    "import numpy as np\n",
    "import matplotlib.pyplot as plt"
   ]
  },
  {
   "cell_type": "markdown",
   "id": "d9cf5767-f534-4a20-a450-51ba9ca962fe",
   "metadata": {},
   "source": [
    "## Data structures in Polars\n",
    "\n",
    "## Model Initialization"
   ]
  },
  {
   "cell_type": "code",
   "execution_count": 18,
   "id": "9fb969a4-8fc8-48d2-9f59-431e68765b48",
   "metadata": {},
   "outputs": [
    {
     "name": "stdout",
     "output_type": "stream",
     "text": [
      "shape: (2, 2)\n",
      "┌─────┬─────────────┐\n",
      "│ id  ┆ state       │\n",
      "│ --- ┆ ---         │\n",
      "│ i64 ┆ str         │\n",
      "╞═════╪═════════════╡\n",
      "│ 0   ┆ Susceptible │\n",
      "│ 1   ┆ Susceptible │\n",
      "└─────┴─────────────┘\n",
      "shape: (2, 2)\n",
      "┌─────┬─────────────┐\n",
      "│ id  ┆ state       │\n",
      "│ --- ┆ ---         │\n",
      "│ i64 ┆ str         │\n",
      "╞═════╪═════════════╡\n",
      "│ 0   ┆ Susceptible │\n",
      "│ 1   ┆ Susceptible │\n",
      "└─────┴─────────────┘\n"
     ]
    }
   ],
   "source": [
    "# Create a dataframe\n",
    "\n",
    "#empty dataframe\n",
    "population = pl.DataFrame()\n",
    "\n",
    "\n",
    "pop_size = 2\n",
    "\n",
    "#Create a dataframe via dictionary\n",
    "population = pl.DataFrame(\n",
    "                        {\n",
    "                        \"id\": range(pop_size),\n",
    "                        \"state\": [\"Susceptible\"] * pop_size,\n",
    "                        }\n",
    "                        )\n",
    "print(population)\n",
    "\n",
    "#Create a dataframe via list of polars Series\n",
    "population2 = [\n",
    "                pl.Series(\"id\", range(pop_size), dtype=pl.Int64),\n",
    "                pl.Series(\"state\",  [\"Susceptible\"] * pop_size),  \n",
    "            ]\n",
    "population2 = pl.DataFrame(population2)\n",
    "print(population2)\n"
   ]
  },
  {
   "cell_type": "markdown",
   "id": "d871dda2-0296-4abe-9a56-6e96bc1a8444",
   "metadata": {},
   "source": [
    "### Polars: with_columns()"
   ]
  },
  {
   "cell_type": "code",
   "execution_count": 19,
   "id": "09c3d301-4d5d-46f7-8e16-07b45af08ae4",
   "metadata": {},
   "outputs": [
    {
     "name": "stdout",
     "output_type": "stream",
     "text": [
      "shape: (3, 3)\n",
      "┌───────────┬─────────────┬─────┐\n",
      "│ unique_id ┆ state       ┆ age │\n",
      "│ ---       ┆ ---         ┆ --- │\n",
      "│ i64       ┆ str         ┆ i32 │\n",
      "╞═══════════╪═════════════╪═════╡\n",
      "│ 0         ┆ Susceptible ┆ 30  │\n",
      "│ 1         ┆ Susceptible ┆ 30  │\n",
      "│ 2         ┆ Susceptible ┆ 30  │\n",
      "└───────────┴─────────────┴─────┘\n"
     ]
    }
   ],
   "source": [
    "#add a new column\n",
    "# pl.lit()\n",
    "pop_size = 3\n",
    "population = pl.DataFrame(\n",
    "                        {\n",
    "                        \"unique_id\": range(pop_size),\n",
    "                        \"state\": [\"Susceptible\"] * pop_size,\n",
    "                        }\n",
    "                        )\n",
    "population = population.with_columns(age = pl.lit(30))\n",
    "print(population)"
   ]
  },
  {
   "cell_type": "code",
   "execution_count": 20,
   "id": "9a0f2d24-94a5-413b-b55f-ce4690353b3f",
   "metadata": {},
   "outputs": [
    {
     "name": "stdout",
     "output_type": "stream",
     "text": [
      "shape: (3, 2)\n",
      "┌─────┬─────────────┐\n",
      "│ id  ┆ state       │\n",
      "│ --- ┆ ---         │\n",
      "│ i64 ┆ str         │\n",
      "╞═════╪═════════════╡\n",
      "│ 0   ┆ Susceptible │\n",
      "│ 1   ┆ Susceptible │\n",
      "│ 2   ┆ Susceptible │\n",
      "└─────┴─────────────┘\n",
      "shape: (3, 2)\n",
      "┌─────┬─────────────┐\n",
      "│ id  ┆ state       │\n",
      "│ --- ┆ ---         │\n",
      "│ i64 ┆ str         │\n",
      "╞═════╪═════════════╡\n",
      "│ 0   ┆ Susceptible │\n",
      "│ 1   ┆ Susceptible │\n",
      "│ 2   ┆ Infectious  │\n",
      "└─────┴─────────────┘\n"
     ]
    }
   ],
   "source": [
    "#create a susceptible population and change status of one individual\n",
    "#when,then,otherwise\n",
    "pop_size = 3\n",
    "population = pl.DataFrame(\n",
    "                        {\n",
    "                        \"id\": range(pop_size),\n",
    "                        \"state\": [\"Susceptible\"] * pop_size,\n",
    "                        }\n",
    "                        )\n",
    "print(population)\n",
    "population = population.with_columns(\n",
    "        (pl.when(pl.col(\"id\") == 2)\n",
    "        .then(pl.lit(\"Infectious\"))\n",
    "        .otherwise(pl.col(\"state\"))\n",
    "        .alias(\"state\"))\n",
    "    )\n",
    "print(population)"
   ]
  },
  {
   "cell_type": "code",
   "execution_count": 40,
   "id": "93aabbf9-786f-47e1-add3-7708e05f8a39",
   "metadata": {},
   "outputs": [
    {
     "data": {
      "text/html": [
       "<div><style>\n",
       ".dataframe > thead > tr,\n",
       ".dataframe > tbody > tr {\n",
       "  text-align: right;\n",
       "  white-space: pre-wrap;\n",
       "}\n",
       "</style>\n",
       "<small>shape: (5, 5)</small><table border=\"1\" class=\"dataframe\"><thead><tr><th>id</th><th>state</th><th>age</th><th>age_group</th><th>age_day</th></tr><tr><td>i64</td><td>str</td><td>i64</td><td>i64</td><td>i64</td></tr></thead><tbody><tr><td>0</td><td>&quot;Susceptible&quot;</td><td>15</td><td>1</td><td>364</td></tr><tr><td>1</td><td>&quot;Susceptible&quot;</td><td>20</td><td>2</td><td>21</td></tr><tr><td>2</td><td>&quot;Infectious&quot;</td><td>61</td><td>6</td><td>211</td></tr><tr><td>3</td><td>&quot;Susceptible&quot;</td><td>98</td><td>9</td><td>301</td></tr><tr><td>4</td><td>&quot;Susceptible&quot;</td><td>100</td><td>10</td><td>2</td></tr></tbody></table></div>"
      ],
      "text/plain": [
       "shape: (5, 5)\n",
       "┌─────┬─────────────┬─────┬───────────┬─────────┐\n",
       "│ id  ┆ state       ┆ age ┆ age_group ┆ age_day │\n",
       "│ --- ┆ ---         ┆ --- ┆ ---       ┆ ---     │\n",
       "│ i64 ┆ str         ┆ i64 ┆ i64       ┆ i64     │\n",
       "╞═════╪═════════════╪═════╪═══════════╪═════════╡\n",
       "│ 0   ┆ Susceptible ┆ 15  ┆ 1         ┆ 364     │\n",
       "│ 1   ┆ Susceptible ┆ 20  ┆ 2         ┆ 21      │\n",
       "│ 2   ┆ Infectious  ┆ 61  ┆ 6         ┆ 211     │\n",
       "│ 3   ┆ Susceptible ┆ 98  ┆ 9         ┆ 301     │\n",
       "│ 4   ┆ Susceptible ┆ 100 ┆ 10        ┆ 2       │\n",
       "└─────┴─────────────┴─────┴───────────┴─────────┘"
      ]
     },
     "metadata": {},
     "output_type": "display_data"
    }
   ],
   "source": [
    "#save a dataframe to a csv file\n",
    "population.write_csv(\"population.csv\")\n",
    "#read a dataframe from a csv file\n",
    "my_population = pl.read_csv(\"example_population.csv\")\n",
    "display(my_population)"
   ]
  },
  {
   "cell_type": "markdown",
   "id": "5d2d1782-f8e4-4d75-a98f-a3a7cf71db6e",
   "metadata": {},
   "source": [
    "## Model Updating"
   ]
  },
  {
   "cell_type": "code",
   "execution_count": 41,
   "id": "ed8a5134-9467-459a-9247-19925e88de63",
   "metadata": {},
   "outputs": [
    {
     "name": "stdout",
     "output_type": "stream",
     "text": [
      "shape: (5, 5)\n",
      "┌─────┬─────────────┬─────┬───────────┬─────────┐\n",
      "│ id  ┆ state       ┆ age ┆ age_group ┆ age_day │\n",
      "│ --- ┆ ---         ┆ --- ┆ ---       ┆ ---     │\n",
      "│ i64 ┆ str         ┆ i64 ┆ i64       ┆ i64     │\n",
      "╞═════╪═════════════╪═════╪═══════════╪═════════╡\n",
      "│ 0   ┆ Susceptible ┆ 15  ┆ 1         ┆ 364     │\n",
      "│ 1   ┆ Susceptible ┆ 20  ┆ 2         ┆ 21      │\n",
      "│ 2   ┆ Infectious  ┆ 61  ┆ 6         ┆ 211     │\n",
      "│ 3   ┆ Susceptible ┆ 98  ┆ 9         ┆ 301     │\n",
      "│ 4   ┆ Susceptible ┆ 100 ┆ 10        ┆ 2       │\n",
      "└─────┴─────────────┴─────┴───────────┴─────────┘\n",
      "age structure is updated\n",
      "shape: (5, 5)\n",
      "┌─────┬─────────────┬─────┬───────────┬─────────┐\n",
      "│ id  ┆ state       ┆ age ┆ age_group ┆ age_day │\n",
      "│ --- ┆ ---         ┆ --- ┆ ---       ┆ ---     │\n",
      "│ i64 ┆ str         ┆ i64 ┆ i64       ┆ i64     │\n",
      "╞═════╪═════════════╪═════╪═══════════╪═════════╡\n",
      "│ 0   ┆ Susceptible ┆ 16  ┆ 1         ┆ 0       │\n",
      "│ 1   ┆ Susceptible ┆ 20  ┆ 2         ┆ 22      │\n",
      "│ 2   ┆ Infectious  ┆ 61  ┆ 6         ┆ 212     │\n",
      "│ 3   ┆ Susceptible ┆ 98  ┆ 9         ┆ 302     │\n",
      "│ 4   ┆ Susceptible ┆ 100 ┆ 10        ┆ 3       │\n",
      "└─────┴─────────────┴─────┴───────────┴─────────┘\n"
     ]
    }
   ],
   "source": [
    "#Update the age structure based on a given time step \n",
    "print(my_population)\n",
    "\n",
    "t_step = 1 #day\n",
    "a_year = 365 #day\n",
    "tstep_per_year = a_year / t_step\n",
    "years_age_group = 10 #10-year age band in each age group\n",
    "\n",
    "my_population = my_population.with_columns(\n",
    "                   \n",
    "                  ( pl.col('age').add((pl.col('age_day') + t_step) // a_year).alias('age')),\n",
    "                   \n",
    "                   ((pl.col('age_day') + t_step) % a_year).alias('age_day'),\n",
    "                   \n",
    "                  ((pl.col('age') + (pl.col('age_day') + t_step)// a_year) // years_age_group)\n",
    "                  .alias('age_group'),)\n",
    "\n",
    "print(\"age structure is updated\")\n",
    "print(my_population)"
   ]
  },
  {
   "cell_type": "code",
   "execution_count": 42,
   "id": "64ee87e5-425a-437f-a866-a746f02067f2",
   "metadata": {},
   "outputs": [
    {
     "data": {
      "text/html": [
       "<div><style>\n",
       ".dataframe > thead > tr,\n",
       ".dataframe > tbody > tr {\n",
       "  text-align: right;\n",
       "  white-space: pre-wrap;\n",
       "}\n",
       "</style>\n",
       "<small>shape: (5, 3)</small><table border=\"1\" class=\"dataframe\"><thead><tr><th>age</th><th>death_rate</th><th>adj_death_rate</th></tr><tr><td>i64</td><td>f64</td><td>f64</td></tr></thead><tbody><tr><td>0</td><td>0.00322</td><td>0.000009</td></tr><tr><td>1</td><td>0.00023</td><td>6.3021e-7</td></tr><tr><td>2</td><td>0.000125</td><td>3.4249e-7</td></tr><tr><td>3</td><td>0.000105</td><td>2.8769e-7</td></tr><tr><td>4</td><td>0.00009</td><td>2.4659e-7</td></tr></tbody></table></div>"
      ],
      "text/plain": [
       "shape: (5, 3)\n",
       "┌─────┬────────────┬────────────────┐\n",
       "│ age ┆ death_rate ┆ adj_death_rate │\n",
       "│ --- ┆ ---        ┆ ---            │\n",
       "│ i64 ┆ f64        ┆ f64            │\n",
       "╞═════╪════════════╪════════════════╡\n",
       "│ 0   ┆ 0.00322    ┆ 0.000009       │\n",
       "│ 1   ┆ 0.00023    ┆ 6.3021e-7      │\n",
       "│ 2   ┆ 0.000125   ┆ 3.4249e-7      │\n",
       "│ 3   ┆ 0.000105   ┆ 2.8769e-7      │\n",
       "│ 4   ┆ 0.00009    ┆ 2.4659e-7      │\n",
       "└─────┴────────────┴────────────────┘"
      ]
     },
     "metadata": {},
     "output_type": "display_data"
    }
   ],
   "source": [
    "yearly_death_rate = pl.read_csv(\"death_rates.csv\")\n",
    "#display(yearly_death_rate.head())\n",
    "#display(yearly_death_rate.tail())\n",
    "\n",
    "#take yearly death rates and calculate adjusted daily death rates\n",
    "annual_factor = 1.0 / tstep_per_year\n",
    "adj_death_rate = yearly_death_rate.with_columns(\n",
    "    (1 - (1 - pl.col(\"death_rate\")) ** (annual_factor)).alias(\"adj_death_rate\")\n",
    ")\n",
    "display(adj_death_rate.head())\n"
   ]
  },
  {
   "cell_type": "code",
   "execution_count": 43,
   "id": "6e343799-04e7-4bde-b99b-b1fa8e094e5f",
   "metadata": {},
   "outputs": [
    {
     "name": "stdout",
     "output_type": "stream",
     "text": [
      "shape: (5, 5)\n",
      "┌─────┬─────────────┬─────┬───────────┬─────────┐\n",
      "│ id  ┆ state       ┆ age ┆ age_group ┆ age_day │\n",
      "│ --- ┆ ---         ┆ --- ┆ ---       ┆ ---     │\n",
      "│ i64 ┆ str         ┆ i64 ┆ i64       ┆ i64     │\n",
      "╞═════╪═════════════╪═════╪═══════════╪═════════╡\n",
      "│ 0   ┆ Susceptible ┆ 16  ┆ 1         ┆ 0       │\n",
      "│ 1   ┆ Susceptible ┆ 20  ┆ 2         ┆ 22      │\n",
      "│ 2   ┆ Infectious  ┆ 61  ┆ 6         ┆ 212     │\n",
      "│ 3   ┆ Susceptible ┆ 98  ┆ 9         ┆ 302     │\n",
      "│ 4   ┆ Susceptible ┆ 100 ┆ 10        ┆ 3       │\n",
      "└─────┴─────────────┴─────┴───────────┴─────────┘\n",
      "shape: (4, 5)\n",
      "┌─────┬─────────────┬─────┬───────────┬─────────┐\n",
      "│ id  ┆ state       ┆ age ┆ age_group ┆ age_day │\n",
      "│ --- ┆ ---         ┆ --- ┆ ---       ┆ ---     │\n",
      "│ i64 ┆ str         ┆ i64 ┆ i64       ┆ i64     │\n",
      "╞═════╪═════════════╪═════╪═══════════╪═════════╡\n",
      "│ 0   ┆ Susceptible ┆ 16  ┆ 1         ┆ 0       │\n",
      "│ 1   ┆ Susceptible ┆ 20  ┆ 2         ┆ 22      │\n",
      "│ 2   ┆ Infectious  ┆ 61  ┆ 6         ┆ 212     │\n",
      "│ 3   ┆ Susceptible ┆ 98  ┆ 9         ┆ 302     │\n",
      "└─────┴─────────────┴─────┴───────────┴─────────┘\n",
      "shape: (5, 5)\n",
      "┌─────┬─────────────┬─────┬───────────┬─────────┐\n",
      "│ id  ┆ state       ┆ age ┆ age_group ┆ age_day │\n",
      "│ --- ┆ ---         ┆ --- ┆ ---       ┆ ---     │\n",
      "│ i64 ┆ str         ┆ i64 ┆ i64       ┆ i64     │\n",
      "╞═════╪═════════════╪═════╪═══════════╪═════════╡\n",
      "│ 0   ┆ Susceptible ┆ 16  ┆ 1         ┆ 0       │\n",
      "│ 1   ┆ Susceptible ┆ 20  ┆ 2         ┆ 22      │\n",
      "│ 2   ┆ Infectious  ┆ 61  ┆ 6         ┆ 212     │\n",
      "│ 3   ┆ Susceptible ┆ 98  ┆ 9         ┆ 302     │\n",
      "│ 4   ┆ Dead        ┆ 100 ┆ 10        ┆ 3       │\n",
      "└─────┴─────────────┴─────┴───────────┴─────────┘\n"
     ]
    }
   ],
   "source": [
    "#checking deaths\n",
    "random_seed = 92\n",
    "rng = np.random.RandomState(random_seed)\n",
    "    \n",
    "print(my_population)\n",
    "\n",
    "#only keep people who are alive\n",
    "my_population1 = my_population.filter(\n",
    "    (rng.rand(my_population.height) > \n",
    "     adj_death_rate[\"adj_death_rate\"].gather(my_population[\"age\"]).to_list()) )\n",
    "print(my_population1)\n",
    "\n",
    "#another example: keep dead individuals in the population with state \"Dead\"\n",
    "random_seed = 92\n",
    "rng = np.random.RandomState(random_seed)\n",
    "\n",
    "dead_status = (rng.rand(my_population.height) <= \n",
    "               adj_death_rate[\"adj_death_rate\"].gather(my_population[\"age\"]).to_list())\n",
    "\n",
    "my_population2 = my_population.with_columns(\n",
    "    pl.when(pl.lit(dead_status)).then(pl.lit(\"Dead\"))\n",
    "    .otherwise(pl.col(\"state\")).alias(\"state\"))\n",
    "print(my_population2)"
   ]
  },
  {
   "cell_type": "markdown",
   "id": "8665b725-d3df-42bd-bcb3-c79d1d621742",
   "metadata": {},
   "source": [
    "### Polars: Update()"
   ]
  },
  {
   "cell_type": "code",
   "execution_count": 44,
   "id": "96d1b7fb-d041-4a7c-8e4d-a2a9adacca48",
   "metadata": {},
   "outputs": [
    {
     "name": "stdout",
     "output_type": "stream",
     "text": [
      "shape: (5, 5)\n",
      "┌─────┬─────────────┬─────┬───────────┬─────────┐\n",
      "│ id  ┆ state       ┆ age ┆ age_group ┆ age_day │\n",
      "│ --- ┆ ---         ┆ --- ┆ ---       ┆ ---     │\n",
      "│ i64 ┆ str         ┆ i64 ┆ i64       ┆ i64     │\n",
      "╞═════╪═════════════╪═════╪═══════════╪═════════╡\n",
      "│ 0   ┆ Susceptible ┆ 16  ┆ 1         ┆ 0       │\n",
      "│ 1   ┆ Susceptible ┆ 20  ┆ 2         ┆ 22      │\n",
      "│ 2   ┆ Infectious  ┆ 61  ┆ 6         ┆ 212     │\n",
      "│ 3   ┆ Susceptible ┆ 98  ┆ 9         ┆ 302     │\n",
      "│ 4   ┆ Susceptible ┆ 100 ┆ 10        ┆ 3       │\n",
      "└─────┴─────────────┴─────┴───────────┴─────────┘\n",
      "frac_infected_in_contacts: 0.25\n",
      "will infected: shape: (1, 5)\n",
      "┌─────┬─────────────┬─────┬───────────┬─────────┐\n",
      "│ id  ┆ state       ┆ age ┆ age_group ┆ age_day │\n",
      "│ --- ┆ ---         ┆ --- ┆ ---       ┆ ---     │\n",
      "│ i64 ┆ str         ┆ i64 ┆ i64       ┆ i64     │\n",
      "╞═════╪═════════════╪═════╪═══════════╪═════════╡\n",
      "│ 0   ┆ Susceptible ┆ 16  ┆ 1         ┆ 0       │\n",
      "└─────┴─────────────┴─────┴───────────┴─────────┘\n",
      "new infected: shape: (1, 5)\n",
      "┌─────┬────────────┬─────┬───────────┬─────────┐\n",
      "│ id  ┆ state      ┆ age ┆ age_group ┆ age_day │\n",
      "│ --- ┆ ---        ┆ --- ┆ ---       ┆ ---     │\n",
      "│ i64 ┆ str        ┆ i64 ┆ i64       ┆ i64     │\n",
      "╞═════╪════════════╪═════╪═══════════╪═════════╡\n",
      "│ 0   ┆ Infectious ┆ 16  ┆ 1         ┆ 0       │\n",
      "└─────┴────────────┴─────┴───────────┴─────────┘\n",
      "updated population shape: (5, 5)\n",
      "┌─────┬─────────────┬─────┬───────────┬─────────┐\n",
      "│ id  ┆ state       ┆ age ┆ age_group ┆ age_day │\n",
      "│ --- ┆ ---         ┆ --- ┆ ---       ┆ ---     │\n",
      "│ i64 ┆ str         ┆ i64 ┆ i64       ┆ i64     │\n",
      "╞═════╪═════════════╪═════╪═══════════╪═════════╡\n",
      "│ 0   ┆ Infectious  ┆ 16  ┆ 1         ┆ 0       │\n",
      "│ 1   ┆ Susceptible ┆ 20  ┆ 2         ┆ 22      │\n",
      "│ 2   ┆ Infectious  ┆ 61  ┆ 6         ┆ 212     │\n",
      "│ 3   ┆ Susceptible ┆ 98  ┆ 9         ┆ 302     │\n",
      "│ 4   ┆ Susceptible ┆ 100 ┆ 10        ┆ 3       │\n",
      "└─────┴─────────────┴─────┴───────────┴─────────┘\n"
     ]
    }
   ],
   "source": [
    "#checking new infections\n",
    "\n",
    "random_seed = 9 \n",
    "rng = np.random.RandomState(random_seed)\n",
    "    \n",
    "print(my_population)\n",
    "#assume contacts are homogeneous; \n",
    "prob_transmission_per_contact = 0.1\n",
    "avg_contacts_per_day = 2\n",
    "\n",
    "\n",
    "#only consider susceptibles\n",
    "susceptibles = my_population.filter(\n",
    "    pl.col(\"state\") == \"Susceptible\")\n",
    "\n",
    "if susceptibles.height:\n",
    "    #at least one susceptible ind in the population\n",
    "\n",
    "    #calculate infected fraction in contacts of a susceptible individual\n",
    "    frac_infected_in_contacts = my_population.filter(\n",
    "    pl.col(\"state\") == \"Infectious\").height/(my_population.height - 1)\n",
    "    print(\"frac_infected_in_contacts: %s\" %frac_infected_in_contacts)\n",
    "\n",
    "    #calculate prob_transmission for a susceptible individual\n",
    "    prob_transmission = prob_transmission_per_contact * \\\n",
    "                         avg_contacts_per_day * frac_infected_in_contacts \n",
    "    #identify individuals who will be infected\n",
    "    will_infected = susceptibles.filter(\n",
    "        rng.rand(susceptibles.height) <= prob_transmission\n",
    "    )\n",
    "    print(\"will infected: %s\"%will_infected)\n",
    "    new_infected = will_infected.with_columns(pl.lit(\"Infectious\").alias(\"state\"))\n",
    "    print(\"new infected: %s\"%new_infected)\n",
    "\n",
    "    if new_infected.height:\n",
    "        #only update the rows of the newly infected population \n",
    "        my_population = my_population.update(new_infected, on = \"id\", how = \"left\")\n",
    "        \n",
    "print(\"updated population %s\"%my_population)"
   ]
  },
  {
   "cell_type": "markdown",
   "id": "f197c9a5-8d13-4f5a-9e91-ebd691b202ef",
   "metadata": {},
   "source": [
    "# Collect summary statistics"
   ]
  },
  {
   "cell_type": "code",
   "execution_count": 57,
   "id": "f37c3c08-2648-43e5-8b9c-d04861217583",
   "metadata": {},
   "outputs": [
    {
     "data": {
      "text/html": [
       "<div><style>\n",
       ".dataframe > thead > tr,\n",
       ".dataframe > tbody > tr {\n",
       "  text-align: right;\n",
       "  white-space: pre-wrap;\n",
       "}\n",
       "</style>\n",
       "<small>shape: (5, 4)</small><table border=\"1\" class=\"dataframe\"><thead><tr><th>state</th><th>count</th><th>t</th><th>run_no</th></tr><tr><td>str</td><td>i64</td><td>i64</td><td>i64</td></tr></thead><tbody><tr><td>&quot;Susceptible&quot;</td><td>499</td><td>0</td><td>0</td></tr><tr><td>&quot;Exposed&quot;</td><td>0</td><td>0</td><td>0</td></tr><tr><td>&quot;Infectious&quot;</td><td>1</td><td>0</td><td>0</td></tr><tr><td>&quot;Recovered&quot;</td><td>0</td><td>0</td><td>0</td></tr><tr><td>&quot;Susceptible&quot;</td><td>499</td><td>1</td><td>0</td></tr></tbody></table></div>"
      ],
      "text/plain": [
       "shape: (5, 4)\n",
       "┌─────────────┬───────┬─────┬────────┐\n",
       "│ state       ┆ count ┆ t   ┆ run_no │\n",
       "│ ---         ┆ ---   ┆ --- ┆ ---    │\n",
       "│ str         ┆ i64   ┆ i64 ┆ i64    │\n",
       "╞═════════════╪═══════╪═════╪════════╡\n",
       "│ Susceptible ┆ 499   ┆ 0   ┆ 0      │\n",
       "│ Exposed     ┆ 0     ┆ 0   ┆ 0      │\n",
       "│ Infectious  ┆ 1     ┆ 0   ┆ 0      │\n",
       "│ Recovered   ┆ 0     ┆ 0   ┆ 0      │\n",
       "│ Susceptible ┆ 499   ┆ 1   ┆ 0      │\n",
       "└─────────────┴───────┴─────┴────────┘"
      ]
     },
     "metadata": {},
     "output_type": "display_data"
    },
    {
     "name": "stdout",
     "output_type": "stream",
     "text": [
      "500\n"
     ]
    }
   ],
   "source": [
    "results = pl.read_csv(\"example_output.csv\")\n",
    "display(results.head())\n",
    "pop_size = results.filter((pl.col(\"run_no\") == pl.col(\"run_no\").min()) &\n",
    "                          ((pl.col(\"t\") == pl.col(\"t\").min())))[\"count\"].sum()\n",
    "print(pop_size)"
   ]
  },
  {
   "cell_type": "code",
   "execution_count": 59,
   "id": "d67f50cf-3a08-43db-accd-4bffeec4f34d",
   "metadata": {},
   "outputs": [
    {
     "data": {
      "text/html": [
       "<div><style>\n",
       ".dataframe > thead > tr,\n",
       ".dataframe > tbody > tr {\n",
       "  text-align: right;\n",
       "  white-space: pre-wrap;\n",
       "}\n",
       "</style>\n",
       "<small>shape: (1, 3)</small><table border=\"1\" class=\"dataframe\"><thead><tr><th>fsize_fraction_mean</th><th>fsize_fraction_025</th><th>fsize_fraction_975</th></tr><tr><td>f64</td><td>f64</td><td>f64</td></tr></thead><tbody><tr><td>0.305</td><td>0.002</td><td>0.692</td></tr></tbody></table></div>"
      ],
      "text/plain": [
       "shape: (1, 3)\n",
       "┌─────────────────────┬────────────────────┬────────────────────┐\n",
       "│ fsize_fraction_mean ┆ fsize_fraction_025 ┆ fsize_fraction_975 │\n",
       "│ ---                 ┆ ---                ┆ ---                │\n",
       "│ f64                 ┆ f64                ┆ f64                │\n",
       "╞═════════════════════╪════════════════════╪════════════════════╡\n",
       "│ 0.305               ┆ 0.002              ┆ 0.692              │\n",
       "└─────────────────────┴────────────────────┴────────────────────┘"
      ]
     },
     "metadata": {},
     "output_type": "display_data"
    }
   ],
   "source": [
    "#final size calculation given initial recovered == 0\n",
    "recovered = results.filter(pl.col(\"state\") == \"Recovered\").with_columns(pl.col(\"count\")/pop_size)\n",
    "\n",
    "final_sizes = recovered.group_by(\"run_no\").agg(pl.col(\"count\").last()).rename({\"count\": \"fsize_fraction\"})\n",
    "\n",
    "#.filter(pl.col(\"t\").last())\n",
    "sum_final_size = final_sizes.select(pl.col(\"fsize_fraction\").mean().name.suffix(\"_mean\"),\n",
    "                                    pl.col(\"fsize_fraction\").quantile(0.025).name.suffix(\"_025\"),\n",
    "                                    pl.col(\"fsize_fraction\").quantile(0.975).name.suffix(\"_975\"),\n",
    ")\n",
    "display(sum_final_size)"
   ]
  },
  {
   "cell_type": "code",
   "execution_count": null,
   "id": "56f0afd6-7cf0-4de4-846c-48877e5dc5b4",
   "metadata": {},
   "outputs": [],
   "source": [
    "#another agg example?"
   ]
  },
  {
   "cell_type": "markdown",
   "id": "e987c165-6a2e-46ba-bef2-87459e9ce9f6",
   "metadata": {},
   "source": [
    "# Additional examples and functions"
   ]
  },
  {
   "cell_type": "code",
   "execution_count": null,
   "id": "a64004bf-d0af-40e1-b7c9-317067e074cf",
   "metadata": {},
   "outputs": [],
   "source": [
    "#ADDING NEW ROWS - COMBINING TWO DATAFRAME\n",
    "#add rows\n",
    "#https://stackoverflow.com/questions/71654966/how-can-i-append-or-concatenate-two-dataframes-in-python-polars\n",
    "pop_size = 2\n",
    "population = pl.DataFrame(\n",
    "                        {\n",
    "                        \"id\": range(pop_size),\n",
    "                        \"state\": [\"Susceptible\"] * pop_size,\n",
    "                        }\n",
    "                        )\n",
    "\n",
    "population2 = pl.DataFrame([\n",
    "    pl.Series(\"id\", [2], dtype=pl.Int64),\n",
    "    pl.Series(\"state\",  [\"Infectious\"]),\n",
    "])\n",
    "print(population2)\n",
    "\n",
    "# new memory slab\n",
    "new_population = pl.concat([population, population2], rechunk=True)\n",
    "\n",
    "# append free (no memory copy)\n",
    "new_population2 = population.vstack(population2)\n",
    "\n",
    "# try to append in place\n",
    "population.extend(population2)\n",
    "print(population, new_population, new_population2)"
   ]
  },
  {
   "cell_type": "code",
   "execution_count": null,
   "id": "6405e0ac-e356-4ed7-8d8f-b2a8e7772feb",
   "metadata": {},
   "outputs": [],
   "source": [
    "#rename(): rename columns\n",
    "population2 = population.rename({\"unique_id\":\"id\"})\n",
    "print(population2)\n",
    "#CAREFUL: using alias to rename changes the order of the columns\n",
    "population1 = population.with_columns(pl.col(\"unique_id\").alias(\"id\")).drop(\"unique_id\")\n",
    "print(population1)"
   ]
  },
  {
   "cell_type": "code",
   "execution_count": null,
   "id": "63fd758b-ff66-40bd-9715-c242328d047f",
   "metadata": {},
   "outputs": [],
   "source": [
    "# update pop dynamics\n",
    "\"\"\"\n",
    "self.P.I = (\n",
    "               self.P.I\n",
    "               .with_columns(\n",
    "                   \n",
    "                  ( pl.col('age').add((pl.col('age_days') + period) // 364).alias('age')),\n",
    "                   \n",
    "                   ((pl.col('age_days') + period) % 364).alias('age_days'),\n",
    "                   \n",
    "                  ((pl.col('age') + (pl.col('age_days') + period)// 364) // 5)\n",
    "                  .alias('age_group'),\n",
    "                    \n",
    "                  #(will_live(self.P.I[\"age\"], self.death_rates[t], self.rng)),\n",
    "                  \n",
    "                  \n",
    "                  ((pl.col('random') < death_rates.list.take(self.P.I[\"age\"])[0]).alias(\"alive\")),\n",
    "                  \n",
    "                  (pl.lit(self.rng.rand(self.P.I.height))).alias(\"random\"),\n",
    "                  \n",
    "                   ).filter(pl.col(\"alive\")).drop(\"alive\")\n",
    "               )\n",
    "\n",
    "\"\"\"\n",
    "\n",
    "# assign an exposed from column\n",
    "\"\"\"\n",
    "P.I = (\n",
    "                    P.I.with_columns(\n",
    "                    exposed_strains = self.strain_distribution[\"strain\"][\n",
    "                        rng.choice(len(self.strain_distribution[\"strain\"]),\n",
    "                                    p = self.strain_distribution[\"fraction\"],\n",
    "                                              size = len(P.I))]\n",
    "             )).sort(\"random\", \"no_of_strains\", \"age_group\", descending=False)\n",
    "\"\"\"\n",
    "\n",
    "#vaccine a target group\n",
    "\n",
    "\n",
    "#calculate age-group specific foi and infect indiivduals and update the individuals\n",
    "\n",
    "\n",
    "#identify individuals that are going to be infected by exposed strains\n",
    "\"\"\"P.I = (P.I.with_columns(\n",
    "                   (  pl.col(\"random\") <= (\\\n",
    "                (1 * (pl.col(\"no_of_strains\") < self.max_no_coinfections)) *\\\n",
    "                    (prob_infection.list.take(P.I[\"age_group\"])[0] *\\\n",
    "                     (1 -  (self.reduction_in_susceptibility) * \\\n",
    "                          (pl.col(\"no_of_strains\"))) * \\\n",
    "                            (1 - \\\n",
    "            pl.col(\"exposed_strains\").is_in(pl.col(\"strain_list\")))     \n",
    "                                 )\n",
    "                   )).alias(\"will_infected\"),\n",
    "               \n",
    "                   (pl.lit(rng.rand(P.I.height)).alias(\"random\")),\n",
    "                   ))\n",
    "\"\"\"\n",
    "\n",
    "\n",
    "#recover individuals with multiple infections\n",
    "\"\"\"\n",
    "recovered = (\n",
    "            P.I.filter((pl.col(\"endTimes\").list.eval(pl.element()\n",
    "                            .filter(pl.element() <= day))).list.lengths() > 0)\n",
    "            .select([\"id\", \"strain_list\", \"endTimes\", \"no_of_strains\"])\n",
    "        )\n",
    "        \n",
    "       \n",
    "        \n",
    "recovered = (\n",
    "            recovered.with_columns(\n",
    "            (pl.col(\"endTimes\").list.eval(pl.element()\n",
    "                     .filter(pl.element() > day))),\n",
    "            (pl.col(\"strain_list\").list.eval(pl.element()).list\n",
    "             .take(pl.col(\"endTimes\").list\n",
    "        .eval((pl.element() > day).arg_true()))),\n",
    "           ).with_columns(\n",
    "               (((pl.col(\"strain_list\").list.lengths()))\n",
    "                 .cast(pl.Int32).alias(\"no_of_strains\"))))\n",
    "               #.filter(pl.col(\"endTimesIndexes\").list.lengths() > 0)\n",
    "            \n",
    "P.I = P.I.update(recovered, on=\"id\", how=\"left\")\n",
    "\"\"\"\n",
    "\n",
    "\n",
    "\n",
    "#check the antibody levels of individuals given a vaccine list and antibody log\n",
    "\"\"\"\n",
    "\n",
    "\n",
    "\"\"\""
   ]
  },
  {
   "cell_type": "markdown",
   "id": "24caede7-03aa-49f3-b556-d33b2c4e097b",
   "metadata": {},
   "source": [
    "### Polars: Join()"
   ]
  },
  {
   "cell_type": "markdown",
   "id": "a6f695ff-2ded-41be-bc2f-07189d6d7e0b",
   "metadata": {},
   "source": [
    "### Polars: struct columns"
   ]
  },
  {
   "cell_type": "code",
   "execution_count": null,
   "id": "432952d4-ecc8-4d31-ad5b-f2ec2786b1b6",
   "metadata": {},
   "outputs": [],
   "source": [
    "#unnest, field"
   ]
  },
  {
   "cell_type": "code",
   "execution_count": null,
   "id": "41e6db2c-fa46-44a5-8511-69c944aeeb6f",
   "metadata": {},
   "outputs": [],
   "source": [
    "#random numbers"
   ]
  },
  {
   "cell_type": "code",
   "execution_count": null,
   "id": "08b45214-e575-4d55-9732-3911e4943e0e",
   "metadata": {},
   "outputs": [],
   "source": [
    "#sample function -> different ways to samples"
   ]
  },
  {
   "cell_type": "markdown",
   "id": "5cdc910f-aead-4171-a34e-58088fd7682c",
   "metadata": {},
   "source": [
    "## sort\n",
    "https://docs.pola.rs/api/python/stable/reference/dataframe/api/polars.DataFrame.sort.html\n",
    "\n",
    "## height\n",
    "https://docs.pola.rs/api/python/stable/reference/dataframe/api/polars.DataFrame.height.html\n",
    "## schema\n",
    "https://docs.pola.rs/api/python/stable/reference/dataframe/api/polars.DataFrame.schema.html\n"
   ]
  },
  {
   "cell_type": "code",
   "execution_count": null,
   "id": "bf4e2244-4b74-46bf-9cf9-0913fec4b722",
   "metadata": {},
   "outputs": [],
   "source": [
    "### take()\n",
    "\n",
    "\"\"\"\n",
    "late_vacc = (late_vacc.with_columns(\n",
    "                        (pl.lit(rng.rand(late_vacc.height))\n",
    "                             .alias(\"random\")),\n",
    "                        \n",
    "                        pl.struct(\n",
    "                        ((pl.col(\"vaccines\").struct.field(\"no_of_doses\") + 1)\n",
    "                        .alias(\"no_of_doses\")),\n",
    "                            (-1 * (\n",
    "                                day + \\\n",
    "                                    current_daily_schedules.take(\n",
    "                        late_vacc[\"vaccines\"].struct.field(\"no_of_doses\") + 1)\n",
    "                              - current_daily_schedules.take(\n",
    "                            late_vacc[\"vaccines\"].struct.field(\"no_of_doses\"))\n",
    "                               )).cast(pl.Int64).alias(\"on_time\"),\n",
    "                            #(pl.col(\"vaccines\").struct.field(\"on_time\")),\n",
    "                            (pl.lit(vaccine)).alias(\"vaccine_type\"),\n",
    "                             pl.lit(day).alias(\"final_vaccine_time\"),\n",
    "                             ).alias(\"vaccines\")\n",
    "                        \n",
    "                        ))\n",
    "\"\"\""
   ]
  },
  {
   "cell_type": "code",
   "execution_count": null,
   "id": "82f36a50-5a65-49eb-8dc5-1e32d92718fa",
   "metadata": {},
   "outputs": [],
   "source": [
    "## Collecting summaries\n",
    "\n",
    "#### Polars:  select()"
   ]
  },
  {
   "cell_type": "markdown",
   "id": "668bddf5-0bc6-451f-9ee0-c9cf5f169d6b",
   "metadata": {},
   "source": [
    "## Introduction to Lazy DataFrame\n"
   ]
  },
  {
   "cell_type": "code",
   "execution_count": null,
   "id": "0a6ac714-dfb5-4b97-a6ab-4a084d2981e9",
   "metadata": {},
   "outputs": [],
   "source": []
  }
 ],
 "metadata": {
  "kernelspec": {
   "display_name": "Python 3 (Spyder)",
   "language": "python3",
   "name": "python3"
  },
  "language_info": {
   "codemirror_mode": {
    "name": "ipython",
    "version": 3
   },
   "file_extension": ".py",
   "mimetype": "text/x-python",
   "name": "python",
   "nbconvert_exporter": "python",
   "pygments_lexer": "ipython3",
   "version": "3.9.18"
  }
 },
 "nbformat": 4,
 "nbformat_minor": 5
}

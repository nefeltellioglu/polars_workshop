{
 "cells": [
  {
   "cell_type": "markdown",
   "id": "7bba3c51-4292-4432-b14d-208e8b98e5a2",
   "metadata": {},
   "source": [
    "## Polars home page (https://pola.rs/) \n",
    "## The User Guide home page (https://docs.pola.rs/)"
   ]
  },
  {
   "cell_type": "code",
   "execution_count": 2,
   "id": "e0cfaf3c-4f5a-4c99-ab29-a2eb85f7bd5a",
   "metadata": {},
   "outputs": [],
   "source": [
    "import polars as pl\n",
    "import numpy as np"
   ]
  },
  {
   "cell_type": "markdown",
   "id": "d9cf5767-f534-4a20-a450-51ba9ca962fe",
   "metadata": {},
   "source": [
    "## DataFrame Initialization\n",
    "\n",
    "Many more details in documentation: [here](https://docs.pola.rs/api/python/stable/reference/dataframe/index.html).\n",
    "\n",
    "Some simple idioms:"
   ]
  },
  {
   "cell_type": "code",
   "execution_count": 13,
   "id": "9fb969a4-8fc8-48d2-9f59-431e68765b48",
   "metadata": {},
   "outputs": [
    {
     "name": "stdout",
     "output_type": "stream",
     "text": [
      "shape: (3, 2)\n",
      "┌─────┬─────────────┐\n",
      "│ id  ┆ state       │\n",
      "│ --- ┆ ---         │\n",
      "│ i64 ┆ str         │\n",
      "╞═════╪═════════════╡\n",
      "│ 0   ┆ Susceptible │\n",
      "│ 1   ┆ Susceptible │\n",
      "│ 2   ┆ Susceptible │\n",
      "└─────┴─────────────┘\n",
      "shape: (3, 2)\n",
      "┌─────┬─────────────┐\n",
      "│ id  ┆ state       │\n",
      "│ --- ┆ ---         │\n",
      "│ i64 ┆ str         │\n",
      "╞═════╪═════════════╡\n",
      "│ 0   ┆ Susceptible │\n",
      "│ 1   ┆ Susceptible │\n",
      "│ 2   ┆ Susceptible │\n",
      "└─────┴─────────────┘\n"
     ]
    }
   ],
   "source": [
    "pop_size = 3\n",
    "\n",
    "# Create a dataframe via a dictionary\n",
    "population = pl.DataFrame(\n",
    "                        {\n",
    "                        \"id\": range(pop_size),\n",
    "                        \"state\": [\"Susceptible\"] * pop_size,\n",
    "                        }\n",
    "                        )\n",
    "print(population)\n",
    "\n",
    "# Create the same dataframe via list of pl.Series\n",
    "population2 = [\n",
    "                pl.Series(\"id\", range(pop_size), dtype=pl.Int64),\n",
    "                pl.Series(\"state\",  [\"Susceptible\"] * pop_size),  \n",
    "              ]\n",
    "population2 = pl.DataFrame(population2)\n",
    "print(population2)"
   ]
  },
  {
   "cell_type": "markdown",
   "id": "d871dda2-0296-4abe-9a56-6e96bc1a8444",
   "metadata": {},
   "source": [
    "### with_columns()\n",
    "Very useful function that adds columns, or updates existing columns (if you give a new column the same name as an existing column).\n",
    "\n",
    "See [documentation link](https://docs.pola.rs/api/python/stable/reference/dataframe/api/polars.DataFrame.with_columns.html)."
   ]
  },
  {
   "cell_type": "code",
   "execution_count": 14,
   "id": "09c3d301-4d5d-46f7-8e16-07b45af08ae4",
   "metadata": {},
   "outputs": [
    {
     "name": "stdout",
     "output_type": "stream",
     "text": [
      "shape: (3, 3)\n",
      "┌─────┬─────────────┬─────┐\n",
      "│ id  ┆ state       ┆ age │\n",
      "│ --- ┆ ---         ┆ --- │\n",
      "│ i64 ┆ str         ┆ i32 │\n",
      "╞═════╪═════════════╪═════╡\n",
      "│ 0   ┆ Susceptible ┆ 30  │\n",
      "│ 1   ┆ Susceptible ┆ 30  │\n",
      "│ 2   ┆ Susceptible ┆ 30  │\n",
      "└─────┴─────────────┴─────┘\n"
     ]
    }
   ],
   "source": [
    "# add a new column using with_columns\n",
    "population = population.with_columns(age = pl.lit(30))\n",
    "print(population)"
   ]
  },
  {
   "cell_type": "markdown",
   "id": "f323435a",
   "metadata": {},
   "source": [
    "### What if we want to update some rows based on a condition?\n",
    "\n",
    "pl.when().then().otherwise(), inside a with_columns()\n",
    "\n",
    "Documentation: [here](https://docs.pola.rs/api/python/stable/reference/expressions/api/polars.when.html)."
   ]
  },
  {
   "cell_type": "code",
   "execution_count": 15,
   "id": "9a0f2d24-94a5-413b-b55f-ce4690353b3f",
   "metadata": {},
   "outputs": [
    {
     "name": "stdout",
     "output_type": "stream",
     "text": [
      "shape: (3, 3)\n",
      "┌─────┬─────────────┬─────┐\n",
      "│ id  ┆ state       ┆ age │\n",
      "│ --- ┆ ---         ┆ --- │\n",
      "│ i64 ┆ str         ┆ i32 │\n",
      "╞═════╪═════════════╪═════╡\n",
      "│ 0   ┆ Susceptible ┆ 30  │\n",
      "│ 1   ┆ Susceptible ┆ 30  │\n",
      "│ 2   ┆ Infectious  ┆ 30  │\n",
      "└─────┴─────────────┴─────┘\n"
     ]
    }
   ],
   "source": [
    "# change status of individual with id 2 to \"Infectious\"\n",
    "\n",
    "population = population.with_columns(\n",
    "        (pl.when(pl.col(\"id\") == 2)\n",
    "        .then(pl.lit(\"Infectious\"))\n",
    "        .otherwise(pl.col(\"state\"))\n",
    "        .alias(\"state\"))\n",
    "    )\n",
    "print(population)"
   ]
  },
  {
   "cell_type": "markdown",
   "id": "9d1e33c9",
   "metadata": {},
   "source": [
    "## Writing/reading a dataframe to/from a file\n",
    "\n",
    "Many formats available, including but absolutely not limitted to CSV\n",
    "\n",
    "See [here](https://docs.pola.rs/api/python/stable/reference/io.html)."
   ]
  },
  {
   "cell_type": "code",
   "execution_count": 16,
   "id": "93aabbf9-786f-47e1-add3-7708e05f8a39",
   "metadata": {},
   "outputs": [
    {
     "name": "stdout",
     "output_type": "stream",
     "text": [
      "shape: (5, 7)\n",
      "┌─────┬─────────────┬─────┬───────────┬─────────┬─────────────────┬────────────────┐\n",
      "│ id  ┆ state       ┆ age ┆ age_group ┆ age_day ┆ stime_infection ┆ stime_recovery │\n",
      "│ --- ┆ ---         ┆ --- ┆ ---       ┆ ---     ┆ ---             ┆ ---            │\n",
      "│ i64 ┆ str         ┆ i64 ┆ i64       ┆ i64     ┆ i64             ┆ i64            │\n",
      "╞═════╪═════════════╪═════╪═══════════╪═════════╪═════════════════╪════════════════╡\n",
      "│ 0   ┆ Susceptible ┆ 15  ┆ 1         ┆ 364     ┆ -1              ┆ -1             │\n",
      "│ 1   ┆ Susceptible ┆ 20  ┆ 2         ┆ 21      ┆ -1              ┆ -1             │\n",
      "│ 2   ┆ Infectious  ┆ 61  ┆ 6         ┆ 211     ┆ 12              ┆ 20             │\n",
      "│ 3   ┆ Susceptible ┆ 98  ┆ 9         ┆ 301     ┆ -1              ┆ -1             │\n",
      "│ 4   ┆ Susceptible ┆ 100 ┆ 10        ┆ 2       ┆ -1              ┆ -1             │\n",
      "└─────┴─────────────┴─────┴───────────┴─────────┴─────────────────┴────────────────┘\n"
     ]
    }
   ],
   "source": [
    "# Save a dataframe to a csv file\n",
    "population.write_csv(\"population.csv\")\n",
    "# Read a (different!) dataframe from a csv file, for later use\n",
    "my_population = pl.read_csv(\"example_population.csv\")\n",
    "print(my_population)"
   ]
  },
  {
   "cell_type": "markdown",
   "id": "5d2d1782-f8e4-4d75-a98f-a3a7cf71db6e",
   "metadata": {},
   "source": [
    "## DataFrame Updating"
   ]
  },
  {
   "cell_type": "code",
   "execution_count": 17,
   "id": "ed8a5134-9467-459a-9247-19925e88de63",
   "metadata": {},
   "outputs": [
    {
     "name": "stdout",
     "output_type": "stream",
     "text": [
      "shape: (5, 7)\n",
      "┌─────┬─────────────┬─────┬───────────┬─────────┬─────────────────┬────────────────┐\n",
      "│ id  ┆ state       ┆ age ┆ age_group ┆ age_day ┆ stime_infection ┆ stime_recovery │\n",
      "│ --- ┆ ---         ┆ --- ┆ ---       ┆ ---     ┆ ---             ┆ ---            │\n",
      "│ i64 ┆ str         ┆ i64 ┆ i64       ┆ i64     ┆ i64             ┆ i64            │\n",
      "╞═════╪═════════════╪═════╪═══════════╪═════════╪═════════════════╪════════════════╡\n",
      "│ 0   ┆ Susceptible ┆ 16  ┆ 1         ┆ 0       ┆ -1              ┆ -1             │\n",
      "│ 1   ┆ Susceptible ┆ 20  ┆ 2         ┆ 22      ┆ -1              ┆ -1             │\n",
      "│ 2   ┆ Infectious  ┆ 61  ┆ 6         ┆ 212     ┆ 12              ┆ 20             │\n",
      "│ 3   ┆ Susceptible ┆ 98  ┆ 9         ┆ 302     ┆ -1              ┆ -1             │\n",
      "│ 4   ┆ Susceptible ┆ 100 ┆ 10        ┆ 3       ┆ -1              ┆ -1             │\n",
      "└─────┴─────────────┴─────┴───────────┴─────────┴─────────────────┴────────────────┘\n"
     ]
    }
   ],
   "source": [
    "# Update the age structure after a time step of one day\n",
    "\n",
    "t_step = 1 # day\n",
    "a_year = 365 # days\n",
    "tstep_per_year = a_year / t_step\n",
    "years_age_group = 10 # 10-year age band in each age group\n",
    "\n",
    "my_population = my_population.with_columns(\n",
    "                # update (in-place) the age column by adding 0 or 1 based on if it's the birthday of an individual\n",
    "                pl.col('age').add((pl.col('age_day') + t_step) // a_year).alias('age'), \n",
    "                # update (in-place) the fractional ages of everyone\n",
    "                ((pl.col('age_day') + t_step) % a_year).alias('age_day'),\n",
    "                # update the age groups of people who reach the next 10-year age-group\n",
    "                ((pl.col('age') + (pl.col('age_day') + t_step) // a_year) // years_age_group).alias('age_group'))\n",
    "\n",
    "print(my_population)"
   ]
  },
  {
   "cell_type": "markdown",
   "id": "eb1392c3",
   "metadata": {},
   "source": [
    "## What if we want to implement deaths?\n",
    "\n",
    "One way is to just calculate the daily effective death rate by age, and give everyone a chance to die every timestep."
   ]
  },
  {
   "cell_type": "code",
   "execution_count": 18,
   "id": "64ee87e5-425a-437f-a866-a746f02067f2",
   "metadata": {},
   "outputs": [
    {
     "name": "stdout",
     "output_type": "stream",
     "text": [
      "shape: (5, 3)\n",
      "┌─────┬────────────┬────────────────┐\n",
      "│ age ┆ death_rate ┆ adj_death_rate │\n",
      "│ --- ┆ ---        ┆ ---            │\n",
      "│ i64 ┆ f64        ┆ f64            │\n",
      "╞═════╪════════════╪════════════════╡\n",
      "│ 0   ┆ 0.00322    ┆ 0.000009       │\n",
      "│ 1   ┆ 0.00023    ┆ 6.3021e-7      │\n",
      "│ 2   ┆ 0.000125   ┆ 3.4249e-7      │\n",
      "│ 3   ┆ 0.000105   ┆ 2.8769e-7      │\n",
      "│ 4   ┆ 0.00009    ┆ 2.4659e-7      │\n",
      "└─────┴────────────┴────────────────┘\n",
      "shape: (5, 9)\n",
      "┌─────┬─────────────┬─────┬───────────┬───┬──────────────┬──────────────┬────────────┬─────────────┐\n",
      "│ id  ┆ state       ┆ age ┆ age_group ┆ … ┆ stime_infect ┆ stime_recove ┆ death_rate ┆ adj_death_r │\n",
      "│ --- ┆ ---         ┆ --- ┆ ---       ┆   ┆ ion          ┆ ry           ┆ ---        ┆ ate         │\n",
      "│ i64 ┆ str         ┆ i64 ┆ i64       ┆   ┆ ---          ┆ ---          ┆ f64        ┆ ---         │\n",
      "│     ┆             ┆     ┆           ┆   ┆ i64          ┆ i64          ┆            ┆ f64         │\n",
      "╞═════╪═════════════╪═════╪═══════════╪═══╪══════════════╪══════════════╪════════════╪═════════════╡\n",
      "│ 0   ┆ Susceptible ┆ 16  ┆ 1         ┆ … ┆ -1           ┆ -1           ┆ 0.00025    ┆ 6.8502e-7   │\n",
      "│ 1   ┆ Susceptible ┆ 20  ┆ 2         ┆ … ┆ -1           ┆ -1           ┆ 0.00041    ┆ 0.000001    │\n",
      "│ 2   ┆ Infectious  ┆ 61  ┆ 6         ┆ … ┆ 12           ┆ 20           ┆ 0.00548    ┆ 0.000015    │\n",
      "│ 3   ┆ Susceptible ┆ 98  ┆ 9         ┆ … ┆ -1           ┆ -1           ┆ 0.27769    ┆ 0.000891    │\n",
      "│ 4   ┆ Susceptible ┆ 100 ┆ 10        ┆ … ┆ -1           ┆ -1           ┆ 0.323265   ┆ 0.001069    │\n",
      "└─────┴─────────────┴─────┴───────────┴───┴──────────────┴──────────────┴────────────┴─────────────┘\n"
     ]
    }
   ],
   "source": [
    "yearly_death_rate = pl.read_csv(\"death_rates.csv\")\n",
    "\n",
    "# take yearly death rates and calculate adjusted daily death rates\n",
    "annual_factor = 1.0 / tstep_per_year\n",
    "adj_death_rate = yearly_death_rate.with_columns(\n",
    "    (1 - (1 - pl.col(\"death_rate\")) ** (annual_factor)).alias(\"adj_death_rate\")\n",
    ")\n",
    "print(adj_death_rate.head())\n",
    "\n",
    "# let's join this death rate df to the population df (we'll talk more about joins later)\n",
    "df_with_rates = my_population.join(adj_death_rate, on='age')\n",
    "print(df_with_rates)\n"
   ]
  },
  {
   "cell_type": "code",
   "execution_count": 19,
   "id": "6e343799-04e7-4bde-b99b-b1fa8e094e5f",
   "metadata": {},
   "outputs": [
    {
     "name": "stdout",
     "output_type": "stream",
     "text": [
      "shape: (4, 9)\n",
      "┌─────┬─────────────┬─────┬───────────┬───┬──────────────┬──────────────┬────────────┬─────────────┐\n",
      "│ id  ┆ state       ┆ age ┆ age_group ┆ … ┆ stime_infect ┆ stime_recove ┆ death_rate ┆ adj_death_r │\n",
      "│ --- ┆ ---         ┆ --- ┆ ---       ┆   ┆ ion          ┆ ry           ┆ ---        ┆ ate         │\n",
      "│ i64 ┆ str         ┆ i64 ┆ i64       ┆   ┆ ---          ┆ ---          ┆ f64        ┆ ---         │\n",
      "│     ┆             ┆     ┆           ┆   ┆ i64          ┆ i64          ┆            ┆ f64         │\n",
      "╞═════╪═════════════╪═════╪═══════════╪═══╪══════════════╪══════════════╪════════════╪═════════════╡\n",
      "│ 0   ┆ Susceptible ┆ 16  ┆ 1         ┆ … ┆ -1           ┆ -1           ┆ 0.00025    ┆ 6.8502e-7   │\n",
      "│ 1   ┆ Susceptible ┆ 20  ┆ 2         ┆ … ┆ -1           ┆ -1           ┆ 0.00041    ┆ 0.000001    │\n",
      "│ 2   ┆ Infectious  ┆ 61  ┆ 6         ┆ … ┆ 12           ┆ 20           ┆ 0.00548    ┆ 0.000015    │\n",
      "│ 3   ┆ Susceptible ┆ 98  ┆ 9         ┆ … ┆ -1           ┆ -1           ┆ 0.27769    ┆ 0.000891    │\n",
      "└─────┴─────────────┴─────┴───────────┴───┴──────────────┴──────────────┴────────────┴─────────────┘\n",
      "shape: (5, 9)\n",
      "┌─────┬─────────────┬─────┬───────────┬───┬──────────────┬──────────────┬────────────┬─────────────┐\n",
      "│ id  ┆ state       ┆ age ┆ age_group ┆ … ┆ stime_infect ┆ stime_recove ┆ death_rate ┆ adj_death_r │\n",
      "│ --- ┆ ---         ┆ --- ┆ ---       ┆   ┆ ion          ┆ ry           ┆ ---        ┆ ate         │\n",
      "│ i64 ┆ str         ┆ i64 ┆ i64       ┆   ┆ ---          ┆ ---          ┆ f64        ┆ ---         │\n",
      "│     ┆             ┆     ┆           ┆   ┆ i64          ┆ i64          ┆            ┆ f64         │\n",
      "╞═════╪═════════════╪═════╪═══════════╪═══╪══════════════╪══════════════╪════════════╪═════════════╡\n",
      "│ 0   ┆ Susceptible ┆ 16  ┆ 1         ┆ … ┆ -1           ┆ -1           ┆ 0.00025    ┆ 6.8502e-7   │\n",
      "│ 1   ┆ Susceptible ┆ 20  ┆ 2         ┆ … ┆ -1           ┆ -1           ┆ 0.00041    ┆ 0.000001    │\n",
      "│ 2   ┆ Infectious  ┆ 61  ┆ 6         ┆ … ┆ 12           ┆ 20           ┆ 0.00548    ┆ 0.000015    │\n",
      "│ 3   ┆ Susceptible ┆ 98  ┆ 9         ┆ … ┆ -1           ┆ -1           ┆ 0.27769    ┆ 0.000891    │\n",
      "│ 4   ┆ Dead        ┆ 100 ┆ 10        ┆ … ┆ -1           ┆ -1           ┆ 0.323265   ┆ 0.001069    │\n",
      "└─────┴─────────────┴─────┴───────────┴───┴──────────────┴──────────────┴────────────┴─────────────┘\n"
     ]
    }
   ],
   "source": [
    "notrandom_seed = 115\n",
    "rng = np.random.default_rng(notrandom_seed)\n",
    "\n",
    "# Let's go forward a day and see who survives\n",
    "\n",
    "# Two choices: i) drop those who die from the DataFrame, or ii) change the state of those who die:\n",
    "# i)\n",
    "df_with_dropped = df_with_rates.filter(pl.col(\"adj_death_rate\") < rng.random(df_with_rates.height))\n",
    "    \n",
    "print(df_with_dropped)\n",
    "\n",
    "# ii)\n",
    "rng = np.random.default_rng(notrandom_seed)\n",
    "df_with_state_changed = df_with_rates.with_columns(\n",
    "    pl.when(pl.col('adj_death_rate') > rng.random(df_with_rates.height))\n",
    "    .then(pl.lit(\"Dead\"))\n",
    "    .otherwise(pl.col(\"state\")).alias(\"state\"))\n",
    "print(df_with_state_changed)"
   ]
  },
  {
   "cell_type": "markdown",
   "id": "37e7ba3b",
   "metadata": {},
   "source": [
    "## Above \"works\", but is not very efficient, even though it's in polars!\n",
    "\n",
    "We could instead compute the \"age at death\" of each agent at the start of the simulation, rather than generating random numbers for each person every day to check.\n",
    "\n",
    "Much more efficient!"
   ]
  },
  {
   "cell_type": "code",
   "execution_count": 20,
   "id": "1c7103e9",
   "metadata": {},
   "outputs": [
    {
     "name": "stdout",
     "output_type": "stream",
     "text": [
      "[ 91  89  88 100 100]\n"
     ]
    }
   ],
   "source": [
    "from additional_functions import pick_ages_at_death_given_ages\n",
    "\n",
    "rng = np.random.default_rng(notrandom_seed)\n",
    "ages_at_death = pick_ages_at_death_given_ages('death_rates.csv', my_population['age'].to_numpy(), rng)\n",
    "print(ages_at_death)"
   ]
  },
  {
   "cell_type": "markdown",
   "id": "8665b725-d3df-42bd-bcb3-c79d1d621742",
   "metadata": {},
   "source": [
    "# Let's implement some disease spread using polars functionality!"
   ]
  },
  {
   "cell_type": "code",
   "execution_count": 24,
   "id": "96d1b7fb-d041-4a7c-8e4d-a2a9adacca48",
   "metadata": {},
   "outputs": [
    {
     "name": "stdout",
     "output_type": "stream",
     "text": [
      "shape: (5, 7)\n",
      "┌─────┬─────────────┬─────┬───────────┬─────────┬─────────────────┬────────────────┐\n",
      "│ id  ┆ state       ┆ age ┆ age_group ┆ age_day ┆ stime_infection ┆ stime_recovery │\n",
      "│ --- ┆ ---         ┆ --- ┆ ---       ┆ ---     ┆ ---             ┆ ---            │\n",
      "│ i64 ┆ str         ┆ i64 ┆ i64       ┆ i64     ┆ i64             ┆ i64            │\n",
      "╞═════╪═════════════╪═════╪═══════════╪═════════╪═════════════════╪════════════════╡\n",
      "│ 0   ┆ Susceptible ┆ 16  ┆ 1         ┆ 0       ┆ -1              ┆ -1             │\n",
      "│ 1   ┆ Susceptible ┆ 20  ┆ 2         ┆ 22      ┆ -1              ┆ -1             │\n",
      "│ 2   ┆ Infectious  ┆ 61  ┆ 6         ┆ 212     ┆ 12              ┆ 20             │\n",
      "│ 3   ┆ Susceptible ┆ 98  ┆ 9         ┆ 302     ┆ -1              ┆ -1             │\n",
      "│ 4   ┆ Susceptible ┆ 100 ┆ 10        ┆ 3       ┆ -1              ┆ -1             │\n",
      "└─────┴─────────────┴─────┴───────────┴─────────┴─────────────────┴────────────────┘\n",
      "frac_infected_in_contacts: 0.25\n",
      "new infected: shape: (1, 7)\n",
      "┌─────┬────────────┬─────┬───────────┬─────────┬─────────────────┬────────────────┐\n",
      "│ id  ┆ state      ┆ age ┆ age_group ┆ age_day ┆ stime_infection ┆ stime_recovery │\n",
      "│ --- ┆ ---        ┆ --- ┆ ---       ┆ ---     ┆ ---             ┆ ---            │\n",
      "│ i64 ┆ str        ┆ i64 ┆ i64       ┆ i64     ┆ i32             ┆ f64            │\n",
      "╞═════╪════════════╪═════╪═══════════╪═════════╪═════════════════╪════════════════╡\n",
      "│ 4   ┆ Infectious ┆ 100 ┆ 10        ┆ 3       ┆ 20              ┆ 20.932675      │\n",
      "└─────┴────────────┴─────┴───────────┴─────────┴─────────────────┴────────────────┘\n",
      "updated population shape: (5, 7)\n",
      "┌─────┬─────────────┬─────┬───────────┬─────────┬─────────────────┬────────────────┐\n",
      "│ id  ┆ state       ┆ age ┆ age_group ┆ age_day ┆ stime_infection ┆ stime_recovery │\n",
      "│ --- ┆ ---         ┆ --- ┆ ---       ┆ ---     ┆ ---             ┆ ---            │\n",
      "│ i64 ┆ str         ┆ i64 ┆ i64       ┆ i64     ┆ i64             ┆ f64            │\n",
      "╞═════╪═════════════╪═════╪═══════════╪═════════╪═════════════════╪════════════════╡\n",
      "│ 0   ┆ Susceptible ┆ 16  ┆ 1         ┆ 0       ┆ -1              ┆ -1.0           │\n",
      "│ 1   ┆ Susceptible ┆ 20  ┆ 2         ┆ 22      ┆ -1              ┆ -1.0           │\n",
      "│ 2   ┆ Infectious  ┆ 61  ┆ 6         ┆ 212     ┆ 12              ┆ 20.0           │\n",
      "│ 3   ┆ Susceptible ┆ 98  ┆ 9         ┆ 302     ┆ -1              ┆ -1.0           │\n",
      "│ 4   ┆ Infectious  ┆ 100 ┆ 10        ┆ 3       ┆ 20              ┆ 20.932675      │\n",
      "└─────┴─────────────┴─────┴───────────┴─────────┴─────────────────┴────────────────┘\n"
     ]
    }
   ],
   "source": [
    "#checking new infections\n",
    "\n",
    "    \n",
    "print(my_population)\n",
    "\n",
    "#assume contacts are homogeneous; \n",
    "prob_transmission_per_contact = 0.1\n",
    "avg_contacts_per_day = 2\n",
    "current_time = 20\n",
    "avg_inf_duration = 8 # days\n",
    "\n",
    "#only consider susceptibles\n",
    "susceptibles = my_population.filter(pl.col(\"state\") == \"Susceptible\")\n",
    "\n",
    "notrandom_seed = 11\n",
    "rng = np.random.default_rng(notrandom_seed)\n",
    "\n",
    "if susceptibles.height > 0:\n",
    "    #at least one susceptible ind in the population\n",
    "\n",
    "    #calculate infected fraction in contacts of a susceptible individual\n",
    "    frac_infected_in_contacts = my_population.filter(\n",
    "    pl.col(\"state\") == \"Infectious\").height / (my_population.height - 1)\n",
    "    print(\"frac_infected_in_contacts: %s\" %frac_infected_in_contacts)\n",
    "\n",
    "    #calculate prob_transmission for a susceptible individual\n",
    "    prob_transmission = prob_transmission_per_contact * avg_contacts_per_day * frac_infected_in_contacts \n",
    "    #identify individuals who will be infected\n",
    "    will_infected = susceptibles.filter(\n",
    "        rng.random(susceptibles.height) <= prob_transmission\n",
    "    )\n",
    "\n",
    "    dur_infections = rng.exponential(avg_inf_duration, will_infected.height)\n",
    "    new_infected = will_infected.with_columns(\n",
    "        pl.lit(\"Infectious\").alias(\"state\"),\n",
    "        pl.lit(current_time).alias(\"stime_infection\"),\n",
    "        (pl.lit(current_time + dur_infections)).alias(\"stime_recovery\"),\n",
    "        )\n",
    "    print(\"new infected: %s\"%new_infected)\n",
    "\n",
    "    if new_infected.height > 0:\n",
    "        #only update the rows of the newly infected population \n",
    "        df_with_new_inf = my_population.update(new_infected, on=\"id\", how=\"left\")\n",
    "        \n",
    "print(\"updated population %s\"%df_with_new_inf)"
   ]
  },
  {
   "cell_type": "markdown",
   "id": "00baae31",
   "metadata": {},
   "source": [
    "## Your turn!\n",
    "\n",
    "Let's implement a recovery \"update\" step, that checks whether anyone moves between Infectious and Susceptible states in a time step"
   ]
  },
  {
   "cell_type": "code",
   "execution_count": 25,
   "id": "06ecea5b-74a0-42b8-b3e2-4f5e1d6cbd4c",
   "metadata": {},
   "outputs": [],
   "source": [
    "current_time = 20\n",
    "\n",
    "# Insert some code here!"
   ]
  },
  {
   "cell_type": "markdown",
   "id": "f197c9a5-8d13-4f5a-9e91-ebd691b202ef",
   "metadata": {},
   "source": [
    "# Collect summary statistics"
   ]
  },
  {
   "cell_type": "code",
   "execution_count": 43,
   "id": "f37c3c08-2648-43e5-8b9c-d04861217583",
   "metadata": {},
   "outputs": [
    {
     "name": "stdout",
     "output_type": "stream",
     "text": [
      "shape: (4_136, 4)\n",
      "┌─────────────┬───────┬─────┬────────┐\n",
      "│ state       ┆ count ┆ t   ┆ run_no │\n",
      "│ ---         ┆ ---   ┆ --- ┆ ---    │\n",
      "│ str         ┆ i64   ┆ i64 ┆ i64    │\n",
      "╞═════════════╪═══════╪═════╪════════╡\n",
      "│ Susceptible ┆ 499   ┆ 0   ┆ 0      │\n",
      "│ Exposed     ┆ 0     ┆ 0   ┆ 0      │\n",
      "│ Infectious  ┆ 1     ┆ 0   ┆ 0      │\n",
      "│ Recovered   ┆ 0     ┆ 0   ┆ 0      │\n",
      "│ Susceptible ┆ 499   ┆ 1   ┆ 0      │\n",
      "│ …           ┆ …     ┆ …   ┆ …      │\n",
      "│ Recovered   ┆ 278   ┆ 86  ┆ 19     │\n",
      "│ Susceptible ┆ 221   ┆ 87  ┆ 19     │\n",
      "│ Exposed     ┆ 0     ┆ 87  ┆ 19     │\n",
      "│ Infectious  ┆ 0     ┆ 87  ┆ 19     │\n",
      "│ Recovered   ┆ 279   ┆ 87  ┆ 19     │\n",
      "└─────────────┴───────┴─────┴────────┘\n"
     ]
    }
   ],
   "source": [
    "#Let's read an example output file\n",
    "results = pl.read_csv(\"example_output.csv\")\n",
    "#The file includes number of people (count) in each state at each time step in each simulation run.\n",
    "print(results)\n",
    "#OUR AIM: To calculate final size (proportion of the population infected throughout the outbreak)\n",
    "#It is assumed that population size is constant (closed population) and\n",
    "# there are no initially recovered individuals"
   ]
  },
  {
   "cell_type": "code",
   "execution_count": 44,
   "id": "d67f50cf-3a08-43db-accd-4bffeec4f34d",
   "metadata": {},
   "outputs": [
    {
     "name": "stdout",
     "output_type": "stream",
     "text": [
      "500\n",
      "shape: (1, 3)\n",
      "┌─────────────────────┬────────────────────┬────────────────────┐\n",
      "│ fsize_fraction_mean ┆ fsize_fraction_025 ┆ fsize_fraction_975 │\n",
      "│ ---                 ┆ ---                ┆ ---                │\n",
      "│ f64                 ┆ f64                ┆ f64                │\n",
      "╞═════════════════════╪════════════════════╪════════════════════╡\n",
      "│ 0.305               ┆ 0.002              ┆ 0.692              │\n",
      "└─────────────────────┴────────────────────┴────────────────────┘\n"
     ]
    }
   ],
   "source": [
    "#let's calculate population size first\n",
    "pop_size = results.filter((pl.col(\"run_no\") == pl.col(\"run_no\").min()) &\n",
    "                          ((pl.col(\"t\") == pl.col(\"t\").min())))[\"count\"].sum()\n",
    "print(pop_size)\n",
    "#let's calculate the proportion of individuals who are recovered at every time step\n",
    "recovered = results.filter(pl.col(\"state\") == \"Recovered\"\n",
    "                          ).with_columns(pl.col(\"count\")/pop_size)\n",
    "#let's calculate the final size fraction from each run\n",
    "final_sizes = recovered.group_by(\"run_no\").agg(pl.col(\"count\").last()\n",
    "                                              ).rename({\"count\": \"fsize_fraction\"})\n",
    "#let's collect summary of final size from all runs\n",
    "sum_final_size = final_sizes.select(\n",
    "                        pl.col(\"fsize_fraction\").mean().name.suffix(\"_mean\"),\n",
    "                        pl.col(\"fsize_fraction\").quantile(0.025).name.suffix(\"_025\"),\n",
    "                        pl.col(\"fsize_fraction\").quantile(0.975).name.suffix(\"_975\"),\n",
    "                    )\n",
    "print(sum_final_size)"
   ]
  },
  {
   "cell_type": "markdown",
   "id": "ac65ae32",
   "metadata": {},
   "source": [
    "# Let's play aggregating and summarising a slightly larger file"
   ]
  },
  {
   "cell_type": "code",
   "execution_count": 42,
   "id": "56f0afd6-7cf0-4de4-846c-48877e5dc5b4",
   "metadata": {},
   "outputs": [
    {
     "name": "stdout",
     "output_type": "stream",
     "text": [
      "Number of rows: 425305\n",
      "Columns: ['simulation', 'age_at_infection', 'day_of_year_infected', 'outcome']\n",
      "shape: (10, 4)\n",
      "┌────────────┬──────────────────┬──────────────────────┬─────────┐\n",
      "│ simulation ┆ age_at_infection ┆ day_of_year_infected ┆ outcome │\n",
      "│ ---        ┆ ---              ┆ ---                  ┆ ---     │\n",
      "│ i64        ┆ f64              ┆ i64                  ┆ str     │\n",
      "╞════════════╪══════════════════╪══════════════════════╪═════════╡\n",
      "│ 28         ┆ 0.076712         ┆ 304                  ┆ Not SMC │\n",
      "│ 24         ┆ 0.210959         ┆ 139                  ┆ GP      │\n",
      "│ 85         ┆ 1.309589         ┆ 207                  ┆ GP      │\n",
      "│ 51         ┆ 0.120548         ┆ 327                  ┆ Not SMC │\n",
      "│ 4          ┆ 0.150685         ┆ 260                  ┆ Not SMC │\n",
      "│ 12         ┆ 0.09863          ┆ 152                  ┆ H       │\n",
      "│ 52         ┆ 1.342466         ┆ 322                  ┆ Not SMC │\n",
      "│ 68         ┆ 1.920548         ┆ 55                   ┆ Not SMC │\n",
      "│ 2          ┆ 0.915068         ┆ 216                  ┆ Not SMC │\n",
      "│ 56         ┆ 0.309589         ┆ 247                  ┆ GP      │\n",
      "└────────────┴──────────────────┴──────────────────────┴─────────┘\n",
      "Different possible outcomes of infection: ['Not SMC' 'H' 'F' 'GP' 'ED' 'ICU']\n",
      "shape: (425_305, 4)\n",
      "┌────────────┬──────────────────────┬─────────┬──────────────┐\n",
      "│ simulation ┆ day_of_year_infected ┆ outcome ┆ months_alive │\n",
      "│ ---        ┆ ---                  ┆ ---     ┆ ---          │\n",
      "│ i64        ┆ i64                  ┆ str     ┆ i32          │\n",
      "╞════════════╪══════════════════════╪═════════╪══════════════╡\n",
      "│ 1          ┆ 1                    ┆ Not SMC ┆ 4            │\n",
      "│ 1          ┆ 1                    ┆ ED      ┆ 3            │\n",
      "│ 1          ┆ 2                    ┆ Not SMC ┆ 14           │\n",
      "│ 1          ┆ 2                    ┆ H       ┆ 12           │\n",
      "│ 1          ┆ 2                    ┆ Not SMC ┆ 13           │\n",
      "│ …          ┆ …                    ┆ …       ┆ …            │\n",
      "│ 100        ┆ 364                  ┆ Not SMC ┆ 2            │\n",
      "│ 100        ┆ 365                  ┆ Not SMC ┆ 1            │\n",
      "│ 100        ┆ 365                  ┆ Not SMC ┆ 22           │\n",
      "│ 100        ┆ 365                  ┆ GP      ┆ 4            │\n",
      "│ 100        ┆ 365                  ┆ Not SMC ┆ 9            │\n",
      "└────────────┴──────────────────────┴─────────┴──────────────┘\n"
     ]
    }
   ],
   "source": [
    "outcome_df = pl.read_csv('outcomes_csv_for_workshop.csv')\n",
    "\n",
    "print(f'Number of rows: {outcome_df.height}')\n",
    "print(f'Columns: {outcome_df.columns}')\n",
    "print(outcome_df.sample(10)) # show 10 random rows\n",
    "print(f'Different possible outcomes of infection: {outcome_df['outcome'].unique().to_numpy()}')\n",
    "\n",
    "# let's add a \"months alive\" column as these seem to be all kids under the age of 2\n",
    "outcome_df = outcome_df.with_columns((pl.col('age_at_infection') * 12).alias('months_alive').cast(pl.Int32)).drop('age_at_infection')\n",
    "print(outcome_df)\n"
   ]
  },
  {
   "cell_type": "code",
   "execution_count": 39,
   "id": "d59232e7",
   "metadata": {},
   "outputs": [
    {
     "name": "stdout",
     "output_type": "stream",
     "text": [
      "shape: (5_802, 4)\n",
      "┌────────────┬──────────────┬─────────┬────────┐\n",
      "│ simulation ┆ months_alive ┆ outcome ┆ number │\n",
      "│ ---        ┆ ---          ┆ ---     ┆ ---    │\n",
      "│ i64        ┆ i32          ┆ str     ┆ u32    │\n",
      "╞════════════╪══════════════╪═════════╪════════╡\n",
      "│ 33         ┆ 11           ┆ GP      ┆ 20     │\n",
      "│ 56         ┆ 17           ┆ Not SMC ┆ 115    │\n",
      "│ 38         ┆ 11           ┆ H       ┆ 3      │\n",
      "│ 56         ┆ 9            ┆ H       ┆ 3      │\n",
      "│ 6          ┆ 12           ┆ H       ┆ 7      │\n",
      "│ …          ┆ …            ┆ …       ┆ …      │\n",
      "│ 27         ┆ 22           ┆ GP      ┆ 20     │\n",
      "│ 80         ┆ 2            ┆ Not SMC ┆ 553    │\n",
      "│ 32         ┆ 6            ┆ Not SMC ┆ 194    │\n",
      "│ 25         ┆ 13           ┆ H       ┆ 5      │\n",
      "│ 35         ┆ 10           ┆ ED      ┆ 3      │\n",
      "└────────────┴──────────────┴─────────┴────────┘\n"
     ]
    }
   ],
   "source": [
    "# How do we count the number of different outcomes by simulation and months_alive?\n",
    "# group_by and len!\n",
    "grouped = outcome_df.group_by(\n",
    "    'simulation',\n",
    "    'months_alive',\n",
    "    'outcome',\n",
    ").len(name='number')\n",
    "print(grouped)"
   ]
  },
  {
   "cell_type": "code",
   "execution_count": 40,
   "id": "0275ce4d",
   "metadata": {},
   "outputs": [
    {
     "name": "stdout",
     "output_type": "stream",
     "text": [
      "shape: (1_440, 8)\n",
      "┌────────────┬──────────────┬─────┬─────────┬──────┬──────┬──────┬──────┐\n",
      "│ simulation ┆ months_alive ┆ GP  ┆ Not SMC ┆ H    ┆ ICU  ┆ ED   ┆ F    │\n",
      "│ ---        ┆ ---          ┆ --- ┆ ---     ┆ ---  ┆ ---  ┆ ---  ┆ ---  │\n",
      "│ i64        ┆ i32          ┆ u32 ┆ u32     ┆ u32  ┆ u32  ┆ u32  ┆ u32  │\n",
      "╞════════════╪══════════════╪═════╪═════════╪══════╪══════╪══════╪══════╡\n",
      "│ 1          ┆ 0            ┆ 43  ┆ 141     ┆ 12   ┆ null ┆ 39   ┆ null │\n",
      "│ 1          ┆ 1            ┆ 124 ┆ 292     ┆ 19   ┆ null ┆ 77   ┆ null │\n",
      "│ 1          ┆ 2            ┆ 115 ┆ 277     ┆ 19   ┆ 1    ┆ 56   ┆ null │\n",
      "│ 1          ┆ 3            ┆ 81  ┆ 221     ┆ 21   ┆ null ┆ 26   ┆ null │\n",
      "│ 1          ┆ 4            ┆ 57  ┆ 136     ┆ 10   ┆ 1    ┆ 18   ┆ null │\n",
      "│ …          ┆ …            ┆ …   ┆ …       ┆ …    ┆ …    ┆ …    ┆ …    │\n",
      "│ 100        ┆ 19           ┆ 30  ┆ 107     ┆ null ┆ null ┆ 2    ┆ null │\n",
      "│ 100        ┆ 20           ┆ 33  ┆ 111     ┆ 1    ┆ null ┆ 2    ┆ null │\n",
      "│ 100        ┆ 21           ┆ 23  ┆ 134     ┆ null ┆ null ┆ 2    ┆ null │\n",
      "│ 100        ┆ 22           ┆ 30  ┆ 121     ┆ null ┆ null ┆ 4    ┆ null │\n",
      "│ 100        ┆ 23           ┆ 18  ┆ 113     ┆ null ┆ null ┆ null ┆ null │\n",
      "└────────────┴──────────────┴─────┴─────────┴──────┴──────┴──────┴──────┘\n"
     ]
    }
   ],
   "source": [
    "# Pivot tables are also easy:\n",
    "pivotted = grouped.pivot(\n",
    "    'outcome',\n",
    "    index=('simulation', 'months_alive'),\n",
    "    values='number',\n",
    ").sort('simulation', 'months_alive')\n",
    "print(pivotted)\n"
   ]
  },
  {
   "cell_type": "code",
   "execution_count": 41,
   "id": "22655c8b",
   "metadata": {},
   "outputs": [
    {
     "name": "stdout",
     "output_type": "stream",
     "text": [
      "shape: (1_440, 8)\n",
      "┌────────────┬──────────────┬─────┬─────────┬─────┬─────┬─────┬─────┐\n",
      "│ simulation ┆ months_alive ┆ GP  ┆ Not SMC ┆ H   ┆ ICU ┆ ED  ┆ F   │\n",
      "│ ---        ┆ ---          ┆ --- ┆ ---     ┆ --- ┆ --- ┆ --- ┆ --- │\n",
      "│ i64        ┆ i32          ┆ u32 ┆ u32     ┆ u32 ┆ u32 ┆ u32 ┆ u32 │\n",
      "╞════════════╪══════════════╪═════╪═════════╪═════╪═════╪═════╪═════╡\n",
      "│ 1          ┆ 0            ┆ 43  ┆ 141     ┆ 12  ┆ 0   ┆ 39  ┆ 0   │\n",
      "│ 1          ┆ 1            ┆ 124 ┆ 292     ┆ 19  ┆ 0   ┆ 77  ┆ 0   │\n",
      "│ 1          ┆ 2            ┆ 115 ┆ 277     ┆ 19  ┆ 1   ┆ 56  ┆ 0   │\n",
      "│ 1          ┆ 3            ┆ 81  ┆ 221     ┆ 21  ┆ 0   ┆ 26  ┆ 0   │\n",
      "│ 1          ┆ 4            ┆ 57  ┆ 136     ┆ 10  ┆ 1   ┆ 18  ┆ 0   │\n",
      "│ …          ┆ …            ┆ …   ┆ …       ┆ …   ┆ …   ┆ …   ┆ …   │\n",
      "│ 100        ┆ 19           ┆ 30  ┆ 107     ┆ 0   ┆ 0   ┆ 2   ┆ 0   │\n",
      "│ 100        ┆ 20           ┆ 33  ┆ 111     ┆ 1   ┆ 0   ┆ 2   ┆ 0   │\n",
      "│ 100        ┆ 21           ┆ 23  ┆ 134     ┆ 0   ┆ 0   ┆ 2   ┆ 0   │\n",
      "│ 100        ┆ 22           ┆ 30  ┆ 121     ┆ 0   ┆ 0   ┆ 4   ┆ 0   │\n",
      "│ 100        ┆ 23           ┆ 18  ┆ 113     ┆ 0   ┆ 0   ┆ 0   ┆ 0   │\n",
      "└────────────┴──────────────┴─────┴─────────┴─────┴─────┴─────┴─────┘\n"
     ]
    }
   ],
   "source": [
    "# Oh no, some data is missing from the pivot table\n",
    "# This is because in that simulation/age there weren't any of those outcomes\n",
    "# We can fill them in with a fill_nulls\n",
    "\n",
    "for col in pivotted.columns:\n",
    "    pivotted = pivotted.with_columns(pl.col(col).fill_null(0))\n",
    "print(pivotted)"
   ]
  },
  {
   "cell_type": "markdown",
   "id": "c64297a3",
   "metadata": {},
   "source": [
    "## Your turn! What aggregations do you want to do? How would you summarise the data?"
   ]
  },
  {
   "cell_type": "code",
   "execution_count": null,
   "id": "a9d5125f",
   "metadata": {},
   "outputs": [],
   "source": [
    "# Write some code here."
   ]
  },
  {
   "cell_type": "markdown",
   "id": "e987c165-6a2e-46ba-bef2-87459e9ce9f6",
   "metadata": {},
   "source": [
    "# Additional examples and functions"
   ]
  },
  {
   "cell_type": "code",
   "execution_count": 4,
   "id": "a64004bf-d0af-40e1-b7c9-317067e074cf",
   "metadata": {},
   "outputs": [
    {
     "name": "stdout",
     "output_type": "stream",
     "text": [
      "shape: (1, 2)\n",
      "┌─────┬────────────┐\n",
      "│ id  ┆ state      │\n",
      "│ --- ┆ ---        │\n",
      "│ i64 ┆ str        │\n",
      "╞═════╪════════════╡\n",
      "│ 2   ┆ Infectious │\n",
      "└─────┴────────────┘\n",
      "shape: (3, 2)\n",
      "┌─────┬─────────────┐\n",
      "│ id  ┆ state       │\n",
      "│ --- ┆ ---         │\n",
      "│ i64 ┆ str         │\n",
      "╞═════╪═════════════╡\n",
      "│ 0   ┆ Susceptible │\n",
      "│ 1   ┆ Susceptible │\n",
      "│ 2   ┆ Infectious  │\n",
      "└─────┴─────────────┘ shape: (3, 2)\n",
      "┌─────┬─────────────┐\n",
      "│ id  ┆ state       │\n",
      "│ --- ┆ ---         │\n",
      "│ i64 ┆ str         │\n",
      "╞═════╪═════════════╡\n",
      "│ 0   ┆ Susceptible │\n",
      "│ 1   ┆ Susceptible │\n",
      "│ 2   ┆ Infectious  │\n",
      "└─────┴─────────────┘ shape: (3, 2)\n",
      "┌─────┬─────────────┐\n",
      "│ id  ┆ state       │\n",
      "│ --- ┆ ---         │\n",
      "│ i64 ┆ str         │\n",
      "╞═════╪═════════════╡\n",
      "│ 0   ┆ Susceptible │\n",
      "│ 1   ┆ Susceptible │\n",
      "│ 2   ┆ Infectious  │\n",
      "└─────┴─────────────┘\n"
     ]
    }
   ],
   "source": [
    "#Do you need to add new rows or combine two dataframes?\n",
    "\n",
    "#let's consider two simple populations (population and  to combine!\n",
    "pop_size = 2\n",
    "population_1 = pl.DataFrame(\n",
    "                        {\n",
    "                        \"id\": range(pop_size),\n",
    "                        \"state\": [\"Susceptible\"] * pop_size,\n",
    "                        }\n",
    "                        )\n",
    "\n",
    "population_2 = pl.DataFrame([\n",
    "    pl.Series(\"id\", [2], dtype=pl.Int64),\n",
    "    pl.Series(\"state\",  [\"Infectious\"]),\n",
    "])\n",
    "print(population_2)\n",
    "\n",
    "\n",
    "#There are multiple ways to combine dataframes! \n",
    "#You can use concat, vstack, or extend! They all have pros and cons!\n",
    "#Reference to: https://stackoverflow.com/questions/71654966/how-can-i-append-or-concatenate-two-dataframes-in-python-polars\n",
    "\n",
    "# concat creates a new memory slab\n",
    "new_population_1 = pl.concat([population_1, population_2], rechunk=True)\n",
    "\n",
    "# vstack do not create a memory copy\n",
    "new_population_2 = population_1.vstack(population_2)\n",
    "\n",
    "# extend tries to append in place\n",
    "population_1.extend(population_2)\n",
    "print(population_1, new_population_1, new_population_2)"
   ]
  },
  {
   "cell_type": "code",
   "execution_count": 7,
   "id": "6405e0ac-e356-4ed7-8d8f-b2a8e7772feb",
   "metadata": {},
   "outputs": [
    {
     "name": "stdout",
     "output_type": "stream",
     "text": [
      "shape: (3, 2)\n",
      "┌───────────┬─────────────┐\n",
      "│ unique_id ┆ state       │\n",
      "│ ---       ┆ ---         │\n",
      "│ i64       ┆ str         │\n",
      "╞═══════════╪═════════════╡\n",
      "│ 0         ┆ Susceptible │\n",
      "│ 1         ┆ Susceptible │\n",
      "│ 2         ┆ Infectious  │\n",
      "└───────────┴─────────────┘\n",
      "shape: (3, 2)\n",
      "┌─────────────┬───────────┐\n",
      "│ state       ┆ unique_id │\n",
      "│ ---         ┆ ---       │\n",
      "│ str         ┆ i64       │\n",
      "╞═════════════╪═══════════╡\n",
      "│ Susceptible ┆ 0         │\n",
      "│ Susceptible ┆ 1         │\n",
      "│ Infectious  ┆ 2         │\n",
      "└─────────────┴───────────┘\n"
     ]
    }
   ],
   "source": [
    "#Do you need to rename columns? \n",
    "#You can either use rename() or with_columns(alias())!\n",
    "\n",
    "#rename() approach\n",
    "population_2 = population_1.rename({\"id\":\"unique_id\"})\n",
    "print(population_2)\n",
    "\n",
    "#alias approach\n",
    "population_3 = population_1.with_columns(pl.col(\"id\").alias(\"unique_id\")).drop(\"id\")\n",
    "print(population_3)\n",
    "\n",
    "#CAREFUL: using alias to rename changes the order of the columns"
   ]
  },
  {
   "cell_type": "markdown",
   "id": "8354c184-b841-4fb7-ba6e-483d424a055f",
   "metadata": {},
   "source": [
    "## need to combine different dataframes on certain axes? Check join()\n",
    "https://docs.pola.rs/api/python/stable/reference/dataframe/api/polars.DataFrame.join.html\n",
    "\n",
    "## need sorting? Check sort()\n",
    "https://docs.pola.rs/api/python/stable/reference/dataframe/api/polars.DataFrame.sort.html\n",
    "\n",
    "## need the number of rows of a dataframe? Check height\n",
    "https://docs.pola.rs/api/python/stable/reference/dataframe/api/polars.DataFrame.height.html\n",
    "\n",
    "## need to check data types? Check schema()\n",
    "https://docs.pola.rs/api/python/stable/reference/dataframe/api/polars.DataFrame.schema.html\n",
    "\n",
    "## need to introduce columns with list or dict structures? Check struct()\n",
    "https://docs.pola.rs/api/python/stable/reference/expressions/api/polars.struct.html\n"
   ]
  },
  {
   "cell_type": "markdown",
   "id": "3def2bb2",
   "metadata": {},
   "source": [
    "# Still not fast enough?\n",
    "\n",
    "Lazy dataframes ([documentation link](https://docs.pola.rs/api/python/stable/reference/lazyframe/index.html)) help, but add some development overhead (as you can't \"look\" and debug as easily)"
   ]
  }
 ],
 "metadata": {
  "kernelspec": {
   "display_name": "Python 3 (Spyder)",
   "language": "python3",
   "name": "python3"
  },
  "language_info": {
   "codemirror_mode": {
    "name": "ipython",
    "version": 3
   },
   "file_extension": ".py",
   "mimetype": "text/x-python",
   "name": "python",
   "nbconvert_exporter": "python",
   "pygments_lexer": "ipython3",
   "version": "3.9.18"
  }
 },
 "nbformat": 4,
 "nbformat_minor": 5
}
